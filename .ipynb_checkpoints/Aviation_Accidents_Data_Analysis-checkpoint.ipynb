{
 "cells": [
  {
   "cell_type": "markdown",
   "id": "90b31a8c",
   "metadata": {},
   "source": [
    "# Aviation Accidents Analysis\n",
    "\n",
    "You are part of a consulting firm that is tasked to do an analysis of commercial and passenger jet airline safety. The client (an airline/airplane insurer) is interested in knowing what types of aircraft (makes/models) exhibit low rates of total destruction and low likelihood of fatal or serious passenger injuries in the event of an accident. They are also interested in any general variables/conditions that might be at play. Your analysis will be based off of aviation accident data accumulated from the years 1948-2023. \n",
    "\n",
    "Our client is only interested in airplane makes/models that are professional builds and could potentially still be active. Assume a max lifetime of 40 years for a make/model retirement and make sure to filter your data accordingly (i.e. from 1983 onwards). They would also like separate recommendations for small aircraft vs. larger passenger models. **In addition, make sure that claims that you make are statistically robust and that you have enough samples when making comparisons between groups.**\n",
    "\n",
    "\n",
    "In this summative assessment you will demonstrate your ability to:\n",
    "- Use Pandas to load, inspect, and clean the dataset appropriately. \n",
    "- Transform relevant columns to create measures that address the problem at hand.\n",
    "- **conduct EDA: visualization and statistical measures to understand the structure of the data**\n",
    "- **recommend a set of manufacturers to consider as well as specific airplanes conforming to the client's request**\n",
    "- **discuss the relationship between serious injuries/airplane damage incurred and at least *two* factors at play in the incident. You must provide supporting evidence (visuals, summary statistics, tables) for each claim you make.**"
   ]
  },
  {
   "cell_type": "code",
   "execution_count": 1,
   "id": "f41a5544",
   "metadata": {},
   "outputs": [],
   "source": [
    "# loading relevant packages\n",
    "import pandas as pd\n",
    "import numpy as np\n",
    "import matplotlib.pyplot as plt\n",
    "import seaborn as sns"
   ]
  },
  {
   "cell_type": "markdown",
   "id": "e5ce8ff6",
   "metadata": {},
   "source": [
    "## Exploratory Data Analysis  \n",
    "- Load in the cleaned data"
   ]
  },
  {
   "cell_type": "code",
   "execution_count": 2,
   "id": "149894c6",
   "metadata": {},
   "outputs": [
    {
     "name": "stdout",
     "output_type": "stream",
     "text": [
      "<class 'pandas.core.frame.DataFrame'>\n",
      "Index: 57344 entries, 21 to 88784\n",
      "Data columns (total 29 columns):\n",
      " #   Column                  Non-Null Count  Dtype  \n",
      "---  ------                  --------------  -----  \n",
      " 0   Event_Id                57344 non-null  object \n",
      " 1   Investigation_Type      57344 non-null  object \n",
      " 2   Accident_Number         57344 non-null  object \n",
      " 3   Event_Date              57344 non-null  object \n",
      " 4   Location                57316 non-null  object \n",
      " 5   Country                 57211 non-null  object \n",
      " 6   Injury_Severity         57344 non-null  object \n",
      " 7   Aircraft_damage         57344 non-null  object \n",
      " 8   Aircraft_Category       56385 non-null  object \n",
      " 9   Registration_Number     56639 non-null  object \n",
      " 10  Make                    57344 non-null  object \n",
      " 11  Model                   57344 non-null  object \n",
      " 12  Amateur_Built           57344 non-null  object \n",
      " 13  Number_of_Engines       57344 non-null  int64  \n",
      " 14  Engine_Type             53223 non-null  object \n",
      " 15  Purpose_of_flight       50473 non-null  object \n",
      " 16  Total_Fatal_Injuries    57344 non-null  float64\n",
      " 17  Total_Serious_Injuries  57344 non-null  float64\n",
      " 18  Total_Minor_Injuries    57344 non-null  float64\n",
      " 19  Total_Uninjured         57344 non-null  float64\n",
      " 20  Weather_Condition       55154 non-null  object \n",
      " 21  Broad_phase_of_flight   40356 non-null  object \n",
      " 22  Report_Status           54339 non-null  object \n",
      " 23  Publication_Date        57344 non-null  object \n",
      " 24  Report_Date             57344 non-null  object \n",
      " 25  Average_Passenger       57344 non-null  float64\n",
      " 26  ser_inj_frac            57344 non-null  float64\n",
      " 27  is_destroyed            57344 non-null  int64  \n",
      " 28  Make_Model              57344 non-null  object \n",
      "dtypes: float64(6), int64(2), object(21)\n",
      "memory usage: 13.1+ MB\n"
     ]
    }
   ],
   "source": [
    "analysis_df = pd.read_csv('Aviation_Accidents_Cleaned.csv',index_col=0,low_memory=False)\n",
    "\n",
    "analysis_df.info()"
   ]
  },
  {
   "cell_type": "markdown",
   "id": "d3e993dc",
   "metadata": {},
   "source": [
    "## Explore safety metrics across models/makes\n",
    "- Remember that the client is interested in separate recommendations for smaller airplanes and larger airplanes. Choose a passenger threshold of 20 and separate the plane types. "
   ]
  },
  {
   "cell_type": "code",
   "execution_count": 3,
   "id": "a99e3af0",
   "metadata": {},
   "outputs": [
    {
     "data": {
      "text/html": [
       "<div>\n",
       "<style scoped>\n",
       "    .dataframe tbody tr th:only-of-type {\n",
       "        vertical-align: middle;\n",
       "    }\n",
       "\n",
       "    .dataframe tbody tr th {\n",
       "        vertical-align: top;\n",
       "    }\n",
       "\n",
       "    .dataframe thead th {\n",
       "        text-align: right;\n",
       "    }\n",
       "</style>\n",
       "<table border=\"1\" class=\"dataframe\">\n",
       "  <thead>\n",
       "    <tr style=\"text-align: right;\">\n",
       "      <th></th>\n",
       "      <th>Event_Id</th>\n",
       "      <th>Investigation_Type</th>\n",
       "      <th>Accident_Number</th>\n",
       "      <th>Event_Date</th>\n",
       "      <th>Location</th>\n",
       "      <th>Country</th>\n",
       "      <th>Injury_Severity</th>\n",
       "      <th>Aircraft_damage</th>\n",
       "      <th>Aircraft_Category</th>\n",
       "      <th>Registration_Number</th>\n",
       "      <th>...</th>\n",
       "      <th>Weather_Condition</th>\n",
       "      <th>Broad_phase_of_flight</th>\n",
       "      <th>Report_Status</th>\n",
       "      <th>Publication_Date</th>\n",
       "      <th>Report_Date</th>\n",
       "      <th>Average_Passenger</th>\n",
       "      <th>ser_inj_frac</th>\n",
       "      <th>is_destroyed</th>\n",
       "      <th>Make_Model</th>\n",
       "      <th>Size</th>\n",
       "    </tr>\n",
       "  </thead>\n",
       "  <tbody>\n",
       "    <tr>\n",
       "      <th>21</th>\n",
       "      <td>20020917X01776</td>\n",
       "      <td>Accident</td>\n",
       "      <td>CHI82DA020</td>\n",
       "      <td>1982-01-02</td>\n",
       "      <td>CHARLOTTE, MI</td>\n",
       "      <td>United States</td>\n",
       "      <td>Non-Fatal</td>\n",
       "      <td>Substantial</td>\n",
       "      <td>Airplane</td>\n",
       "      <td>N1549Q</td>\n",
       "      <td>...</td>\n",
       "      <td>VMC</td>\n",
       "      <td>Approach</td>\n",
       "      <td>Probable Cause</td>\n",
       "      <td>02-01-1983</td>\n",
       "      <td>1983-01-02</td>\n",
       "      <td>2.0</td>\n",
       "      <td>0.0</td>\n",
       "      <td>0</td>\n",
       "      <td>CESSNA_150L</td>\n",
       "      <td>Small</td>\n",
       "    </tr>\n",
       "    <tr>\n",
       "      <th>20</th>\n",
       "      <td>20020917X01894</td>\n",
       "      <td>Accident</td>\n",
       "      <td>CHI82FEC08</td>\n",
       "      <td>1982-01-02</td>\n",
       "      <td>YPSILANTI, MI</td>\n",
       "      <td>United States</td>\n",
       "      <td>Non-Fatal</td>\n",
       "      <td>Substantial</td>\n",
       "      <td>Airplane</td>\n",
       "      <td>N68812</td>\n",
       "      <td>...</td>\n",
       "      <td>VMC</td>\n",
       "      <td>Takeoff</td>\n",
       "      <td>Probable Cause</td>\n",
       "      <td>02-01-1983</td>\n",
       "      <td>1983-01-02</td>\n",
       "      <td>1.0</td>\n",
       "      <td>0.0</td>\n",
       "      <td>0</td>\n",
       "      <td>CESSNA_152</td>\n",
       "      <td>Small</td>\n",
       "    </tr>\n",
       "    <tr>\n",
       "      <th>18</th>\n",
       "      <td>20020917X02481</td>\n",
       "      <td>Accident</td>\n",
       "      <td>NYC82DA016</td>\n",
       "      <td>1982-01-02</td>\n",
       "      <td>GALETON, PA</td>\n",
       "      <td>United States</td>\n",
       "      <td>Non-Fatal</td>\n",
       "      <td>Substantial</td>\n",
       "      <td>Airplane</td>\n",
       "      <td>N25084</td>\n",
       "      <td>...</td>\n",
       "      <td>VMC</td>\n",
       "      <td>Taxi</td>\n",
       "      <td>Probable Cause</td>\n",
       "      <td>02-01-1983</td>\n",
       "      <td>1983-01-02</td>\n",
       "      <td>1.0</td>\n",
       "      <td>0.0</td>\n",
       "      <td>0</td>\n",
       "      <td>CESSNA_172</td>\n",
       "      <td>Small</td>\n",
       "    </tr>\n",
       "    <tr>\n",
       "      <th>17</th>\n",
       "      <td>20020917X01656</td>\n",
       "      <td>Accident</td>\n",
       "      <td>ANC82FAG14</td>\n",
       "      <td>1982-01-02</td>\n",
       "      <td>SKWENTA, AK</td>\n",
       "      <td>United States</td>\n",
       "      <td>Fatal(3)</td>\n",
       "      <td>Destroyed</td>\n",
       "      <td>Airplane</td>\n",
       "      <td>N7641A</td>\n",
       "      <td>...</td>\n",
       "      <td>VMC</td>\n",
       "      <td>NaN</td>\n",
       "      <td>Probable Cause</td>\n",
       "      <td>02-01-1983</td>\n",
       "      <td>1983-01-02</td>\n",
       "      <td>3.0</td>\n",
       "      <td>1.0</td>\n",
       "      <td>1</td>\n",
       "      <td>CESSNA_180</td>\n",
       "      <td>Small</td>\n",
       "    </tr>\n",
       "    <tr>\n",
       "      <th>16</th>\n",
       "      <td>20020917X01962</td>\n",
       "      <td>Accident</td>\n",
       "      <td>DEN82DTM08</td>\n",
       "      <td>1982-01-02</td>\n",
       "      <td>MIDWAY, UT</td>\n",
       "      <td>United States</td>\n",
       "      <td>Non-Fatal</td>\n",
       "      <td>Destroyed</td>\n",
       "      <td>Helicopter</td>\n",
       "      <td>N51735</td>\n",
       "      <td>...</td>\n",
       "      <td>IMC</td>\n",
       "      <td>Taxi</td>\n",
       "      <td>Probable Cause</td>\n",
       "      <td>02-01-1983</td>\n",
       "      <td>1983-01-02</td>\n",
       "      <td>1.0</td>\n",
       "      <td>0.0</td>\n",
       "      <td>1</td>\n",
       "      <td>ENSTROM_280C</td>\n",
       "      <td>Small</td>\n",
       "    </tr>\n",
       "  </tbody>\n",
       "</table>\n",
       "<p>5 rows × 30 columns</p>\n",
       "</div>"
      ],
      "text/plain": [
       "          Event_Id Investigation_Type Accident_Number  Event_Date  \\\n",
       "21  20020917X01776           Accident      CHI82DA020  1982-01-02   \n",
       "20  20020917X01894           Accident      CHI82FEC08  1982-01-02   \n",
       "18  20020917X02481           Accident      NYC82DA016  1982-01-02   \n",
       "17  20020917X01656           Accident      ANC82FAG14  1982-01-02   \n",
       "16  20020917X01962           Accident      DEN82DTM08  1982-01-02   \n",
       "\n",
       "         Location        Country Injury_Severity Aircraft_damage  \\\n",
       "21  CHARLOTTE, MI  United States       Non-Fatal     Substantial   \n",
       "20  YPSILANTI, MI  United States       Non-Fatal     Substantial   \n",
       "18    GALETON, PA  United States       Non-Fatal     Substantial   \n",
       "17    SKWENTA, AK  United States        Fatal(3)       Destroyed   \n",
       "16     MIDWAY, UT  United States       Non-Fatal       Destroyed   \n",
       "\n",
       "   Aircraft_Category Registration_Number  ... Weather_Condition  \\\n",
       "21          Airplane              N1549Q  ...               VMC   \n",
       "20          Airplane              N68812  ...               VMC   \n",
       "18          Airplane              N25084  ...               VMC   \n",
       "17          Airplane              N7641A  ...               VMC   \n",
       "16        Helicopter              N51735  ...               IMC   \n",
       "\n",
       "   Broad_phase_of_flight   Report_Status  Publication_Date Report_Date  \\\n",
       "21              Approach  Probable Cause        02-01-1983  1983-01-02   \n",
       "20               Takeoff  Probable Cause        02-01-1983  1983-01-02   \n",
       "18                  Taxi  Probable Cause        02-01-1983  1983-01-02   \n",
       "17                   NaN  Probable Cause        02-01-1983  1983-01-02   \n",
       "16                  Taxi  Probable Cause        02-01-1983  1983-01-02   \n",
       "\n",
       "   Average_Passenger  ser_inj_frac  is_destroyed    Make_Model   Size  \n",
       "21               2.0           0.0             0   CESSNA_150L  Small  \n",
       "20               1.0           0.0             0    CESSNA_152  Small  \n",
       "18               1.0           0.0             0    CESSNA_172  Small  \n",
       "17               3.0           1.0             1    CESSNA_180  Small  \n",
       "16               1.0           0.0             1  ENSTROM_280C  Small  \n",
       "\n",
       "[5 rows x 30 columns]"
      ]
     },
     "execution_count": 3,
     "metadata": {},
     "output_type": "execute_result"
    }
   ],
   "source": [
    "def plane_size (row):\n",
    "    if row['Average_Passenger']<=20:\n",
    "        return 'Small'\n",
    "    else:\n",
    "        return 'Large'\n",
    "\n",
    "analysis_df['Size']=analysis_df.apply(plane_size, axis=1)\n",
    "analysis_df.head()"
   ]
  },
  {
   "cell_type": "markdown",
   "id": "725c7e50",
   "metadata": {},
   "source": [
    "#### Analyzing Makes\n",
    "\n",
    "Explore the human injury risk profile for small and larger Makes:\n",
    "- choose the 15 makes for each group possessing the lowest mean fatal/seriously injured fraction\n",
    "- plot the mean fatal/seriously injured fraction for each of these subgroups side-by-side"
   ]
  },
  {
   "cell_type": "code",
   "execution_count": 4,
   "id": "0417acc2",
   "metadata": {},
   "outputs": [
    {
     "name": "stderr",
     "output_type": "stream",
     "text": [
      "C:\\Users\\beers\\AppData\\Local\\Temp\\ipykernel_12400\\1514192072.py:10: SettingWithCopyWarning: \n",
      "A value is trying to be set on a copy of a slice from a DataFrame.\n",
      "Try using .loc[row_indexer,col_indexer] = value instead\n",
      "\n",
      "See the caveats in the documentation: https://pandas.pydata.org/pandas-docs/stable/user_guide/indexing.html#returning-a-view-versus-a-copy\n",
      "  lowest_small['Make_Fraction'] = lowest_small.groupby('Make')['ser_inj_frac'].transform('mean')\n"
     ]
    }
   ],
   "source": [
    "\n",
    "#lets make a new smaller df that will focus on unique ser_inj_frac for each make\n",
    "lowest_small = pd.DataFrame()\n",
    "lowest_large = pd.DataFrame()\n",
    "lowest_small=analysis_df[['Make', 'ser_inj_frac','Size','is_destroyed']]\n",
    "lowest_large=analysis_df[['Make', 'ser_inj_frac','Size','is_destroyed']]\n",
    "\n",
    "\n",
    "\n",
    "\n",
    "lowest_small['Make_Fraction'] = lowest_small.groupby('Make')['ser_inj_frac'].transform('mean')\n",
    "lowest_small = lowest_small.drop_duplicates(subset=['Make'])\n",
    "lowest_small = lowest_small.head(15)\n",
    "#groupby small then large\n",
    "\n",
    "lowest_large=lowest_large[lowest_large['Size'] == 'Large']\n",
    "\n",
    "\n",
    "lowest_large['Make_Fraction'] = lowest_large.groupby('Make')['ser_inj_frac'].transform('mean')\n",
    "lowest_large = lowest_large.drop_duplicates(subset=['Make'])\n",
    "lowest_large = lowest_large.head(15)\n",
    "\n",
    "\n"
   ]
  },
  {
   "cell_type": "code",
   "execution_count": 5,
   "id": "45560cb2-b58b-4a12-8578-9ed5d3e0df9d",
   "metadata": {},
   "outputs": [
    {
     "data": {
      "text/html": [
       "<div>\n",
       "<style scoped>\n",
       "    .dataframe tbody tr th:only-of-type {\n",
       "        vertical-align: middle;\n",
       "    }\n",
       "\n",
       "    .dataframe tbody tr th {\n",
       "        vertical-align: top;\n",
       "    }\n",
       "\n",
       "    .dataframe thead th {\n",
       "        text-align: right;\n",
       "    }\n",
       "</style>\n",
       "<table border=\"1\" class=\"dataframe\">\n",
       "  <thead>\n",
       "    <tr style=\"text-align: right;\">\n",
       "      <th></th>\n",
       "      <th>Make</th>\n",
       "      <th>ser_inj_frac</th>\n",
       "      <th>Size</th>\n",
       "      <th>is_destroyed</th>\n",
       "      <th>Make_Fraction</th>\n",
       "    </tr>\n",
       "  </thead>\n",
       "  <tbody>\n",
       "    <tr>\n",
       "      <th>21</th>\n",
       "      <td>CESSNA</td>\n",
       "      <td>0.0</td>\n",
       "      <td>Small</td>\n",
       "      <td>0</td>\n",
       "      <td>0.244110</td>\n",
       "    </tr>\n",
       "    <tr>\n",
       "      <th>16</th>\n",
       "      <td>ENSTROM</td>\n",
       "      <td>0.0</td>\n",
       "      <td>Small</td>\n",
       "      <td>1</td>\n",
       "      <td>0.166498</td>\n",
       "    </tr>\n",
       "    <tr>\n",
       "      <th>15</th>\n",
       "      <td>BEECH</td>\n",
       "      <td>1.0</td>\n",
       "      <td>Small</td>\n",
       "      <td>1</td>\n",
       "      <td>0.376100</td>\n",
       "    </tr>\n",
       "    <tr>\n",
       "      <th>12</th>\n",
       "      <td>BELL</td>\n",
       "      <td>0.0</td>\n",
       "      <td>Small</td>\n",
       "      <td>1</td>\n",
       "      <td>0.312090</td>\n",
       "    </tr>\n",
       "    <tr>\n",
       "      <th>31</th>\n",
       "      <td>AIR</td>\n",
       "      <td>0.0</td>\n",
       "      <td>Small</td>\n",
       "      <td>0</td>\n",
       "      <td>0.264133</td>\n",
       "    </tr>\n",
       "    <tr>\n",
       "      <th>27</th>\n",
       "      <td>MAULE</td>\n",
       "      <td>0.0</td>\n",
       "      <td>Small</td>\n",
       "      <td>0</td>\n",
       "      <td>0.159281</td>\n",
       "    </tr>\n",
       "    <tr>\n",
       "      <th>23</th>\n",
       "      <td>PIPER</td>\n",
       "      <td>0.0</td>\n",
       "      <td>Small</td>\n",
       "      <td>0</td>\n",
       "      <td>0.301873</td>\n",
       "    </tr>\n",
       "    <tr>\n",
       "      <th>24</th>\n",
       "      <td>GRUMMAN</td>\n",
       "      <td>1.0</td>\n",
       "      <td>Small</td>\n",
       "      <td>1</td>\n",
       "      <td>0.226283</td>\n",
       "    </tr>\n",
       "    <tr>\n",
       "      <th>40</th>\n",
       "      <td>ROCKWELL</td>\n",
       "      <td>0.0</td>\n",
       "      <td>Small</td>\n",
       "      <td>0</td>\n",
       "      <td>0.283445</td>\n",
       "    </tr>\n",
       "    <tr>\n",
       "      <th>46</th>\n",
       "      <td>AERO</td>\n",
       "      <td>0.0</td>\n",
       "      <td>Small</td>\n",
       "      <td>0</td>\n",
       "      <td>0.282338</td>\n",
       "    </tr>\n",
       "    <tr>\n",
       "      <th>49</th>\n",
       "      <td>MOONEY</td>\n",
       "      <td>0.0</td>\n",
       "      <td>Small</td>\n",
       "      <td>0</td>\n",
       "      <td>0.373300</td>\n",
       "    </tr>\n",
       "    <tr>\n",
       "      <th>50</th>\n",
       "      <td>BOEING</td>\n",
       "      <td>0.5</td>\n",
       "      <td>Small</td>\n",
       "      <td>0</td>\n",
       "      <td>0.128456</td>\n",
       "    </tr>\n",
       "    <tr>\n",
       "      <th>62</th>\n",
       "      <td>SCHLEICHER</td>\n",
       "      <td>0.0</td>\n",
       "      <td>Small</td>\n",
       "      <td>0</td>\n",
       "      <td>0.351190</td>\n",
       "    </tr>\n",
       "    <tr>\n",
       "      <th>80</th>\n",
       "      <td>EMBRAER</td>\n",
       "      <td>0.0</td>\n",
       "      <td>Small</td>\n",
       "      <td>0</td>\n",
       "      <td>0.285593</td>\n",
       "    </tr>\n",
       "    <tr>\n",
       "      <th>91</th>\n",
       "      <td>HUGHES</td>\n",
       "      <td>0.0</td>\n",
       "      <td>Small</td>\n",
       "      <td>0</td>\n",
       "      <td>0.251314</td>\n",
       "    </tr>\n",
       "  </tbody>\n",
       "</table>\n",
       "</div>"
      ],
      "text/plain": [
       "          Make  ser_inj_frac   Size  is_destroyed  Make_Fraction\n",
       "21      CESSNA           0.0  Small             0       0.244110\n",
       "16     ENSTROM           0.0  Small             1       0.166498\n",
       "15       BEECH           1.0  Small             1       0.376100\n",
       "12        BELL           0.0  Small             1       0.312090\n",
       "31         AIR           0.0  Small             0       0.264133\n",
       "27       MAULE           0.0  Small             0       0.159281\n",
       "23       PIPER           0.0  Small             0       0.301873\n",
       "24     GRUMMAN           1.0  Small             1       0.226283\n",
       "40    ROCKWELL           0.0  Small             0       0.283445\n",
       "46        AERO           0.0  Small             0       0.282338\n",
       "49      MOONEY           0.0  Small             0       0.373300\n",
       "50      BOEING           0.5  Small             0       0.128456\n",
       "62  SCHLEICHER           0.0  Small             0       0.351190\n",
       "80     EMBRAER           0.0  Small             0       0.285593\n",
       "91      HUGHES           0.0  Small             0       0.251314"
      ]
     },
     "execution_count": 5,
     "metadata": {},
     "output_type": "execute_result"
    }
   ],
   "source": [
    "lowest_small.head(15)"
   ]
  },
  {
   "cell_type": "code",
   "execution_count": 6,
   "id": "716171d3-d28b-4597-bd5c-817dda25d098",
   "metadata": {},
   "outputs": [
    {
     "data": {
      "text/html": [
       "<div>\n",
       "<style scoped>\n",
       "    .dataframe tbody tr th:only-of-type {\n",
       "        vertical-align: middle;\n",
       "    }\n",
       "\n",
       "    .dataframe tbody tr th {\n",
       "        vertical-align: top;\n",
       "    }\n",
       "\n",
       "    .dataframe thead th {\n",
       "        text-align: right;\n",
       "    }\n",
       "</style>\n",
       "<table border=\"1\" class=\"dataframe\">\n",
       "  <thead>\n",
       "    <tr style=\"text-align: right;\">\n",
       "      <th></th>\n",
       "      <th>Make</th>\n",
       "      <th>ser_inj_frac</th>\n",
       "      <th>Size</th>\n",
       "      <th>is_destroyed</th>\n",
       "      <th>Make_Fraction</th>\n",
       "    </tr>\n",
       "  </thead>\n",
       "  <tbody>\n",
       "    <tr>\n",
       "      <th>84</th>\n",
       "      <td>BOEING</td>\n",
       "      <td>0.965517</td>\n",
       "      <td>Large</td>\n",
       "      <td>1</td>\n",
       "      <td>0.106767</td>\n",
       "    </tr>\n",
       "    <tr>\n",
       "      <th>155</th>\n",
       "      <td>MCDONNELL</td>\n",
       "      <td>0.028302</td>\n",
       "      <td>Large</td>\n",
       "      <td>1</td>\n",
       "      <td>0.065518</td>\n",
       "    </tr>\n",
       "    <tr>\n",
       "      <th>908</th>\n",
       "      <td>LOCKHEED</td>\n",
       "      <td>0.000000</td>\n",
       "      <td>Large</td>\n",
       "      <td>0</td>\n",
       "      <td>0.079679</td>\n",
       "    </tr>\n",
       "    <tr>\n",
       "      <th>1343</th>\n",
       "      <td>DOUGLAS</td>\n",
       "      <td>0.000000</td>\n",
       "      <td>Large</td>\n",
       "      <td>0</td>\n",
       "      <td>0.123420</td>\n",
       "    </tr>\n",
       "    <tr>\n",
       "      <th>15013</th>\n",
       "      <td>DE</td>\n",
       "      <td>1.000000</td>\n",
       "      <td>Large</td>\n",
       "      <td>1</td>\n",
       "      <td>0.132233</td>\n",
       "    </tr>\n",
       "    <tr>\n",
       "      <th>15779</th>\n",
       "      <td>PIPER</td>\n",
       "      <td>0.911111</td>\n",
       "      <td>Large</td>\n",
       "      <td>1</td>\n",
       "      <td>0.497222</td>\n",
       "    </tr>\n",
       "    <tr>\n",
       "      <th>15012</th>\n",
       "      <td>BELL</td>\n",
       "      <td>1.000000</td>\n",
       "      <td>Large</td>\n",
       "      <td>1</td>\n",
       "      <td>1.000000</td>\n",
       "    </tr>\n",
       "    <tr>\n",
       "      <th>16210</th>\n",
       "      <td>BRITISH</td>\n",
       "      <td>0.000000</td>\n",
       "      <td>Large</td>\n",
       "      <td>0</td>\n",
       "      <td>0.230769</td>\n",
       "    </tr>\n",
       "    <tr>\n",
       "      <th>16905</th>\n",
       "      <td>CESSNA</td>\n",
       "      <td>0.000000</td>\n",
       "      <td>Large</td>\n",
       "      <td>0</td>\n",
       "      <td>0.169014</td>\n",
       "    </tr>\n",
       "    <tr>\n",
       "      <th>16580</th>\n",
       "      <td>FOKKER</td>\n",
       "      <td>0.012658</td>\n",
       "      <td>Large</td>\n",
       "      <td>0</td>\n",
       "      <td>0.120704</td>\n",
       "    </tr>\n",
       "    <tr>\n",
       "      <th>19134</th>\n",
       "      <td>AIR</td>\n",
       "      <td>0.021429</td>\n",
       "      <td>Large</td>\n",
       "      <td>0</td>\n",
       "      <td>0.128607</td>\n",
       "    </tr>\n",
       "    <tr>\n",
       "      <th>19211</th>\n",
       "      <td>BEECH</td>\n",
       "      <td>1.000000</td>\n",
       "      <td>Large</td>\n",
       "      <td>1</td>\n",
       "      <td>0.317727</td>\n",
       "    </tr>\n",
       "    <tr>\n",
       "      <th>24832</th>\n",
       "      <td>SWEARINGEN</td>\n",
       "      <td>0.000000</td>\n",
       "      <td>Large</td>\n",
       "      <td>0</td>\n",
       "      <td>0.000000</td>\n",
       "    </tr>\n",
       "    <tr>\n",
       "      <th>25958</th>\n",
       "      <td>AERO</td>\n",
       "      <td>0.000000</td>\n",
       "      <td>Large</td>\n",
       "      <td>0</td>\n",
       "      <td>0.062313</td>\n",
       "    </tr>\n",
       "    <tr>\n",
       "      <th>27707</th>\n",
       "      <td>EMBRAER</td>\n",
       "      <td>1.000000</td>\n",
       "      <td>Large</td>\n",
       "      <td>1</td>\n",
       "      <td>0.124057</td>\n",
       "    </tr>\n",
       "  </tbody>\n",
       "</table>\n",
       "</div>"
      ],
      "text/plain": [
       "             Make  ser_inj_frac   Size  is_destroyed  Make_Fraction\n",
       "84         BOEING      0.965517  Large             1       0.106767\n",
       "155     MCDONNELL      0.028302  Large             1       0.065518\n",
       "908      LOCKHEED      0.000000  Large             0       0.079679\n",
       "1343      DOUGLAS      0.000000  Large             0       0.123420\n",
       "15013          DE      1.000000  Large             1       0.132233\n",
       "15779       PIPER      0.911111  Large             1       0.497222\n",
       "15012        BELL      1.000000  Large             1       1.000000\n",
       "16210     BRITISH      0.000000  Large             0       0.230769\n",
       "16905      CESSNA      0.000000  Large             0       0.169014\n",
       "16580      FOKKER      0.012658  Large             0       0.120704\n",
       "19134         AIR      0.021429  Large             0       0.128607\n",
       "19211       BEECH      1.000000  Large             1       0.317727\n",
       "24832  SWEARINGEN      0.000000  Large             0       0.000000\n",
       "25958        AERO      0.000000  Large             0       0.062313\n",
       "27707     EMBRAER      1.000000  Large             1       0.124057"
      ]
     },
     "execution_count": 6,
     "metadata": {},
     "output_type": "execute_result"
    }
   ],
   "source": [
    "lowest_large.head(15)"
   ]
  },
  {
   "cell_type": "markdown",
   "id": "2e09b89e",
   "metadata": {},
   "source": [
    "**Distribution of injury rates: small makes**\n",
    "\n",
    "Use a violinplot to look at the distribution of the fraction of passengers serious/fatally injured for small airplane makes. Just display makes with the ten lowest mean serious/fatal injury rates."
   ]
  },
  {
   "cell_type": "code",
   "execution_count": 7,
   "id": "835fcc26",
   "metadata": {},
   "outputs": [
    {
     "data": {
      "image/png": "[encoded data removed]",
      "text/plain": [
       "<Figure size 640x480 with 1 Axes>"
      ]
     },
     "metadata": {},
     "output_type": "display_data"
    }
   ],
   "source": [
    "lowest_small =lowest_small.round(2)\n",
    "small_violin=sns.violinplot(x =\"ser_inj_frac\", \n",
    "             y =\"Make\", \n",
    "             data = lowest_small.head(10))"
   ]
  },
  {
   "cell_type": "markdown",
   "id": "dba86877",
   "metadata": {},
   "source": [
    "**Distribution of injury rates: large makes**\n",
    "\n",
    "Use a stripplot to look at the distribution of the fraction of passengers serious/fatally injured for large airplane makes. Just display makes with the ten lowest mean serious/fatal injury rates."
   ]
  },
  {
   "cell_type": "code",
   "execution_count": 8,
   "id": "bd247956",
   "metadata": {},
   "outputs": [
    {
     "data": {
      "image/png": "[encoded data removed]",
      "text/plain": [
       "<Figure size 640x480 with 1 Axes>"
      ]
     },
     "metadata": {},
     "output_type": "display_data"
    }
   ],
   "source": [
    "lowest_large =lowest_large.round(2)\n",
    "small_violin=sns.stripplot(x =\"ser_inj_frac\",\n",
    "             y =\"Make\",\n",
    "             data = lowest_large.head(10))"
   ]
  },
  {
   "cell_type": "code",
   "execution_count": 9,
   "id": "4b42bbf5-a4f6-43e1-8372-303b265f1623",
   "metadata": {},
   "outputs": [],
   "source": [
    "small_plt=lowest_small.head(10)\n",
    "large_plt=lowest_large.head(10)\n",
    "\n",
    "injury = pd.concat([small_plt, large_plt])"
   ]
  },
  {
   "cell_type": "markdown",
   "id": "eaeab462",
   "metadata": {},
   "source": [
    "**Evaluate the rate of aircraft destruction for both small and large aircraft by Make.** \n",
    "\n",
    "Sort your results and keep the lowest 15."
   ]
  },
  {
   "cell_type": "code",
   "execution_count": 10,
   "id": "e105e04c",
   "metadata": {},
   "outputs": [],
   "source": [
    "small_demo = pd.DataFrame()\n",
    "large_demo = pd.DataFrame()\n",
    "small_demo=analysis_df[['Make', 'ser_inj_frac','Size','is_destroyed']]\n",
    "large_demo=analysis_df[['Make', 'ser_inj_frac','Size','is_destroyed']]\n",
    "\n",
    "small_demo=small_demo[small_demo['Size'] == 'Small']\n",
    "small_demo['demo_lvl']=small_demo['ser_inj_frac']*small_demo['is_destroyed']\n",
    "small_demo['Make_demo_lvl'] = small_demo.groupby('Make')['demo_lvl'].transform('mean')\n",
    "\n",
    "small_demo = small_demo.drop_duplicates(subset=['Make'])\n",
    "small_demo = small_demo.head(15)\n",
    "\n",
    "\n",
    "large_demo=large_demo[large_demo['Size'] == 'Large']\n",
    "large_demo['demo_lvl']=large_demo['ser_inj_frac']*large_demo['is_destroyed']\n",
    "large_demo['Make_demo_lvl'] = large_demo.groupby('Make')['demo_lvl'].transform('mean')\n",
    "\n",
    "large_demo = large_demo.drop_duplicates(subset=['Make'])\n",
    "large_demo = large_demo.head(15)"
   ]
  },
  {
   "cell_type": "code",
   "execution_count": 11,
   "id": "4159678d-528e-40b9-b075-ca782c3403eb",
   "metadata": {
    "scrolled": true
   },
   "outputs": [
    {
     "data": {
      "text/html": [
       "<div>\n",
       "<style scoped>\n",
       "    .dataframe tbody tr th:only-of-type {\n",
       "        vertical-align: middle;\n",
       "    }\n",
       "\n",
       "    .dataframe tbody tr th {\n",
       "        vertical-align: top;\n",
       "    }\n",
       "\n",
       "    .dataframe thead th {\n",
       "        text-align: right;\n",
       "    }\n",
       "</style>\n",
       "<table border=\"1\" class=\"dataframe\">\n",
       "  <thead>\n",
       "    <tr style=\"text-align: right;\">\n",
       "      <th></th>\n",
       "      <th>Make</th>\n",
       "      <th>ser_inj_frac</th>\n",
       "      <th>Size</th>\n",
       "      <th>is_destroyed</th>\n",
       "      <th>demo_lvl</th>\n",
       "      <th>Make_demo_lvl</th>\n",
       "    </tr>\n",
       "  </thead>\n",
       "  <tbody>\n",
       "    <tr>\n",
       "      <th>84</th>\n",
       "      <td>BOEING</td>\n",
       "      <td>0.965517</td>\n",
       "      <td>Large</td>\n",
       "      <td>1</td>\n",
       "      <td>0.965517</td>\n",
       "      <td>0.097513</td>\n",
       "    </tr>\n",
       "    <tr>\n",
       "      <th>155</th>\n",
       "      <td>MCDONNELL</td>\n",
       "      <td>0.028302</td>\n",
       "      <td>Large</td>\n",
       "      <td>1</td>\n",
       "      <td>0.028302</td>\n",
       "      <td>0.059072</td>\n",
       "    </tr>\n",
       "    <tr>\n",
       "      <th>908</th>\n",
       "      <td>LOCKHEED</td>\n",
       "      <td>0.000000</td>\n",
       "      <td>Large</td>\n",
       "      <td>0</td>\n",
       "      <td>0.000000</td>\n",
       "      <td>0.079128</td>\n",
       "    </tr>\n",
       "    <tr>\n",
       "      <th>1343</th>\n",
       "      <td>DOUGLAS</td>\n",
       "      <td>0.000000</td>\n",
       "      <td>Large</td>\n",
       "      <td>0</td>\n",
       "      <td>0.000000</td>\n",
       "      <td>0.120711</td>\n",
       "    </tr>\n",
       "    <tr>\n",
       "      <th>15013</th>\n",
       "      <td>DE</td>\n",
       "      <td>1.000000</td>\n",
       "      <td>Large</td>\n",
       "      <td>1</td>\n",
       "      <td>1.000000</td>\n",
       "      <td>0.120190</td>\n",
       "    </tr>\n",
       "    <tr>\n",
       "      <th>15779</th>\n",
       "      <td>PIPER</td>\n",
       "      <td>0.911111</td>\n",
       "      <td>Large</td>\n",
       "      <td>1</td>\n",
       "      <td>0.911111</td>\n",
       "      <td>0.497222</td>\n",
       "    </tr>\n",
       "    <tr>\n",
       "      <th>15012</th>\n",
       "      <td>BELL</td>\n",
       "      <td>1.000000</td>\n",
       "      <td>Large</td>\n",
       "      <td>1</td>\n",
       "      <td>1.000000</td>\n",
       "      <td>1.000000</td>\n",
       "    </tr>\n",
       "    <tr>\n",
       "      <th>16210</th>\n",
       "      <td>BRITISH</td>\n",
       "      <td>0.000000</td>\n",
       "      <td>Large</td>\n",
       "      <td>0</td>\n",
       "      <td>0.000000</td>\n",
       "      <td>0.230769</td>\n",
       "    </tr>\n",
       "    <tr>\n",
       "      <th>16905</th>\n",
       "      <td>CESSNA</td>\n",
       "      <td>0.000000</td>\n",
       "      <td>Large</td>\n",
       "      <td>0</td>\n",
       "      <td>0.000000</td>\n",
       "      <td>0.169014</td>\n",
       "    </tr>\n",
       "    <tr>\n",
       "      <th>16580</th>\n",
       "      <td>FOKKER</td>\n",
       "      <td>0.012658</td>\n",
       "      <td>Large</td>\n",
       "      <td>0</td>\n",
       "      <td>0.000000</td>\n",
       "      <td>0.087287</td>\n",
       "    </tr>\n",
       "    <tr>\n",
       "      <th>19134</th>\n",
       "      <td>AIR</td>\n",
       "      <td>0.021429</td>\n",
       "      <td>Large</td>\n",
       "      <td>0</td>\n",
       "      <td>0.000000</td>\n",
       "      <td>0.120737</td>\n",
       "    </tr>\n",
       "    <tr>\n",
       "      <th>19211</th>\n",
       "      <td>BEECH</td>\n",
       "      <td>1.000000</td>\n",
       "      <td>Large</td>\n",
       "      <td>1</td>\n",
       "      <td>1.000000</td>\n",
       "      <td>0.313379</td>\n",
       "    </tr>\n",
       "    <tr>\n",
       "      <th>24832</th>\n",
       "      <td>SWEARINGEN</td>\n",
       "      <td>0.000000</td>\n",
       "      <td>Large</td>\n",
       "      <td>0</td>\n",
       "      <td>0.000000</td>\n",
       "      <td>0.000000</td>\n",
       "    </tr>\n",
       "    <tr>\n",
       "      <th>25958</th>\n",
       "      <td>AERO</td>\n",
       "      <td>0.000000</td>\n",
       "      <td>Large</td>\n",
       "      <td>0</td>\n",
       "      <td>0.000000</td>\n",
       "      <td>0.059349</td>\n",
       "    </tr>\n",
       "    <tr>\n",
       "      <th>27707</th>\n",
       "      <td>EMBRAER</td>\n",
       "      <td>1.000000</td>\n",
       "      <td>Large</td>\n",
       "      <td>1</td>\n",
       "      <td>1.000000</td>\n",
       "      <td>0.098435</td>\n",
       "    </tr>\n",
       "  </tbody>\n",
       "</table>\n",
       "</div>"
      ],
      "text/plain": [
       "             Make  ser_inj_frac   Size  is_destroyed  demo_lvl  Make_demo_lvl\n",
       "84         BOEING      0.965517  Large             1  0.965517       0.097513\n",
       "155     MCDONNELL      0.028302  Large             1  0.028302       0.059072\n",
       "908      LOCKHEED      0.000000  Large             0  0.000000       0.079128\n",
       "1343      DOUGLAS      0.000000  Large             0  0.000000       0.120711\n",
       "15013          DE      1.000000  Large             1  1.000000       0.120190\n",
       "15779       PIPER      0.911111  Large             1  0.911111       0.497222\n",
       "15012        BELL      1.000000  Large             1  1.000000       1.000000\n",
       "16210     BRITISH      0.000000  Large             0  0.000000       0.230769\n",
       "16905      CESSNA      0.000000  Large             0  0.000000       0.169014\n",
       "16580      FOKKER      0.012658  Large             0  0.000000       0.087287\n",
       "19134         AIR      0.021429  Large             0  0.000000       0.120737\n",
       "19211       BEECH      1.000000  Large             1  1.000000       0.313379\n",
       "24832  SWEARINGEN      0.000000  Large             0  0.000000       0.000000\n",
       "25958        AERO      0.000000  Large             0  0.000000       0.059349\n",
       "27707     EMBRAER      1.000000  Large             1  1.000000       0.098435"
      ]
     },
     "execution_count": 11,
     "metadata": {},
     "output_type": "execute_result"
    }
   ],
   "source": [
    "large_demo.head(15)"
   ]
  },
  {
   "cell_type": "code",
   "execution_count": 12,
   "id": "8196e8c1-7751-4e18-8cf1-921ece596495",
   "metadata": {
    "scrolled": true
   },
   "outputs": [
    {
     "data": {
      "text/html": [
       "<div>\n",
       "<style scoped>\n",
       "    .dataframe tbody tr th:only-of-type {\n",
       "        vertical-align: middle;\n",
       "    }\n",
       "\n",
       "    .dataframe tbody tr th {\n",
       "        vertical-align: top;\n",
       "    }\n",
       "\n",
       "    .dataframe thead th {\n",
       "        text-align: right;\n",
       "    }\n",
       "</style>\n",
       "<table border=\"1\" class=\"dataframe\">\n",
       "  <thead>\n",
       "    <tr style=\"text-align: right;\">\n",
       "      <th></th>\n",
       "      <th>Make</th>\n",
       "      <th>ser_inj_frac</th>\n",
       "      <th>Size</th>\n",
       "      <th>is_destroyed</th>\n",
       "      <th>demo_lvl</th>\n",
       "      <th>Make_demo_lvl</th>\n",
       "    </tr>\n",
       "  </thead>\n",
       "  <tbody>\n",
       "    <tr>\n",
       "      <th>21</th>\n",
       "      <td>CESSNA</td>\n",
       "      <td>0.0</td>\n",
       "      <td>Small</td>\n",
       "      <td>0</td>\n",
       "      <td>0.0</td>\n",
       "      <td>0.140673</td>\n",
       "    </tr>\n",
       "    <tr>\n",
       "      <th>16</th>\n",
       "      <td>ENSTROM</td>\n",
       "      <td>0.0</td>\n",
       "      <td>Small</td>\n",
       "      <td>1</td>\n",
       "      <td>0.0</td>\n",
       "      <td>0.088384</td>\n",
       "    </tr>\n",
       "    <tr>\n",
       "      <th>15</th>\n",
       "      <td>BEECH</td>\n",
       "      <td>1.0</td>\n",
       "      <td>Small</td>\n",
       "      <td>1</td>\n",
       "      <td>1.0</td>\n",
       "      <td>0.251260</td>\n",
       "    </tr>\n",
       "    <tr>\n",
       "      <th>12</th>\n",
       "      <td>BELL</td>\n",
       "      <td>0.0</td>\n",
       "      <td>Small</td>\n",
       "      <td>1</td>\n",
       "      <td>0.0</td>\n",
       "      <td>0.169975</td>\n",
       "    </tr>\n",
       "    <tr>\n",
       "      <th>31</th>\n",
       "      <td>AIR</td>\n",
       "      <td>0.0</td>\n",
       "      <td>Small</td>\n",
       "      <td>0</td>\n",
       "      <td>0.0</td>\n",
       "      <td>0.123012</td>\n",
       "    </tr>\n",
       "    <tr>\n",
       "      <th>27</th>\n",
       "      <td>MAULE</td>\n",
       "      <td>0.0</td>\n",
       "      <td>Small</td>\n",
       "      <td>0</td>\n",
       "      <td>0.0</td>\n",
       "      <td>0.068862</td>\n",
       "    </tr>\n",
       "    <tr>\n",
       "      <th>23</th>\n",
       "      <td>PIPER</td>\n",
       "      <td>0.0</td>\n",
       "      <td>Small</td>\n",
       "      <td>0</td>\n",
       "      <td>0.0</td>\n",
       "      <td>0.179652</td>\n",
       "    </tr>\n",
       "    <tr>\n",
       "      <th>24</th>\n",
       "      <td>GRUMMAN</td>\n",
       "      <td>1.0</td>\n",
       "      <td>Small</td>\n",
       "      <td>1</td>\n",
       "      <td>1.0</td>\n",
       "      <td>0.146570</td>\n",
       "    </tr>\n",
       "    <tr>\n",
       "      <th>40</th>\n",
       "      <td>ROCKWELL</td>\n",
       "      <td>0.0</td>\n",
       "      <td>Small</td>\n",
       "      <td>0</td>\n",
       "      <td>0.0</td>\n",
       "      <td>0.215719</td>\n",
       "    </tr>\n",
       "    <tr>\n",
       "      <th>46</th>\n",
       "      <td>AERO</td>\n",
       "      <td>0.0</td>\n",
       "      <td>Small</td>\n",
       "      <td>0</td>\n",
       "      <td>0.0</td>\n",
       "      <td>0.141393</td>\n",
       "    </tr>\n",
       "    <tr>\n",
       "      <th>49</th>\n",
       "      <td>MOONEY</td>\n",
       "      <td>0.0</td>\n",
       "      <td>Small</td>\n",
       "      <td>0</td>\n",
       "      <td>0.0</td>\n",
       "      <td>0.222400</td>\n",
       "    </tr>\n",
       "    <tr>\n",
       "      <th>50</th>\n",
       "      <td>BOEING</td>\n",
       "      <td>0.5</td>\n",
       "      <td>Small</td>\n",
       "      <td>0</td>\n",
       "      <td>0.0</td>\n",
       "      <td>0.081232</td>\n",
       "    </tr>\n",
       "    <tr>\n",
       "      <th>62</th>\n",
       "      <td>SCHLEICHER</td>\n",
       "      <td>0.0</td>\n",
       "      <td>Small</td>\n",
       "      <td>0</td>\n",
       "      <td>0.0</td>\n",
       "      <td>0.148810</td>\n",
       "    </tr>\n",
       "    <tr>\n",
       "      <th>80</th>\n",
       "      <td>EMBRAER</td>\n",
       "      <td>0.0</td>\n",
       "      <td>Small</td>\n",
       "      <td>0</td>\n",
       "      <td>0.0</td>\n",
       "      <td>0.267643</td>\n",
       "    </tr>\n",
       "    <tr>\n",
       "      <th>91</th>\n",
       "      <td>HUGHES</td>\n",
       "      <td>0.0</td>\n",
       "      <td>Small</td>\n",
       "      <td>0</td>\n",
       "      <td>0.0</td>\n",
       "      <td>0.123960</td>\n",
       "    </tr>\n",
       "  </tbody>\n",
       "</table>\n",
       "</div>"
      ],
      "text/plain": [
       "          Make  ser_inj_frac   Size  is_destroyed  demo_lvl  Make_demo_lvl\n",
       "21      CESSNA           0.0  Small             0       0.0       0.140673\n",
       "16     ENSTROM           0.0  Small             1       0.0       0.088384\n",
       "15       BEECH           1.0  Small             1       1.0       0.251260\n",
       "12        BELL           0.0  Small             1       0.0       0.169975\n",
       "31         AIR           0.0  Small             0       0.0       0.123012\n",
       "27       MAULE           0.0  Small             0       0.0       0.068862\n",
       "23       PIPER           0.0  Small             0       0.0       0.179652\n",
       "24     GRUMMAN           1.0  Small             1       1.0       0.146570\n",
       "40    ROCKWELL           0.0  Small             0       0.0       0.215719\n",
       "46        AERO           0.0  Small             0       0.0       0.141393\n",
       "49      MOONEY           0.0  Small             0       0.0       0.222400\n",
       "50      BOEING           0.5  Small             0       0.0       0.081232\n",
       "62  SCHLEICHER           0.0  Small             0       0.0       0.148810\n",
       "80     EMBRAER           0.0  Small             0       0.0       0.267643\n",
       "91      HUGHES           0.0  Small             0       0.0       0.123960"
      ]
     },
     "execution_count": 12,
     "metadata": {},
     "output_type": "execute_result"
    }
   ],
   "source": [
    "small_demo.head(15)"
   ]
  },
  {
   "cell_type": "code",
   "execution_count": 13,
   "id": "b99a8225-2bc5-4eed-bc42-8d700adf8ddb",
   "metadata": {},
   "outputs": [
    {
     "data": {
      "image/png": "[encoded data removed]",
      "text/plain": [
       "<Figure size 640x480 with 1 Axes>"
      ]
     },
     "metadata": {},
     "output_type": "display_data"
    }
   ],
   "source": [
    "injury =injury.round(2)\n",
    "injury_strip=sns.stripplot(x =\"Make_Fraction\",\n",
    "             y =\"Make\",\n",
    "             data = injury)"
   ]
  },
  {
   "cell_type": "code",
   "execution_count": 14,
   "id": "a2e651b6-f551-4f12-822b-2cf00e799e23",
   "metadata": {},
   "outputs": [],
   "source": [
    "small_plt=small_demo.head(10)\n",
    "large_plt=large_demo.head(10)\n",
    "\n",
    "demo = pd.concat([small_plt, large_plt])"
   ]
  },
  {
   "cell_type": "code",
   "execution_count": 15,
   "id": "a35e2a3e-f72b-470c-ad0e-3cca90b4c30b",
   "metadata": {},
   "outputs": [
    {
     "data": {
      "image/png": "[encoded data removed]",
      "text/plain": [
       "<Figure size 640x480 with 1 Axes>"
      ]
     },
     "metadata": {},
     "output_type": "display_data"
    }
   ],
   "source": [
    "large_plt =large_plt.round(2)\n",
    "large_strip=sns.stripplot(x =\"Make_demo_lvl\",\n",
    "             y =\"Make\",\n",
    "             data = large_plt)"
   ]
  },
  {
   "cell_type": "code",
   "execution_count": 16,
   "id": "bf303537-8a15-4089-9daa-b690c79aa3e2",
   "metadata": {},
   "outputs": [
    {
     "data": {
      "image/png": "[encoded data removed]",
      "text/plain": [
       "<Figure size 640x480 with 1 Axes>"
      ]
     },
     "metadata": {},
     "output_type": "display_data"
    }
   ],
   "source": [
    "small_plt =small_plt.round(2)\n",
    "small_strip=sns.stripplot(x =\"Make_demo_lvl\",\n",
    "             y =\"Make\",\n",
    "             data = small_plt)"
   ]
  },
  {
   "cell_type": "markdown",
   "id": "77c7232c",
   "metadata": {},
   "source": [
    "#### Provide a short discussion on your findings for your summary statistics and plots:\n",
    "- Make any recommendations for Makes here based off of the destroyed fraction and fraction fatally/seriously injured\n",
    "- Comment on the calculated statistics and any corresponding distributions you have visualized."
   ]
  },
  {
   "cell_type": "markdown",
   "id": "56317f85-9849-4f03-969d-0f606ba88d90",
   "metadata": {
    "scrolled": true
   },
   "source": [
    "\n",
    "It seems most makes are about the same as far as injuries and destruction go. \n",
    "I calcuated this by finding a destruction level that is the Serious/Fatal Fraction * Is Destroyed and finding the mean of each Make\n",
    "A few of the safer Small Makes seem to be Maule, Enstrom, and Air. Each showing a Destruction Level of 0.125 or less  \n",
    "Large Makes are more standard most under a Destruction level of 0.2 with McDonnald, Lockheed, and Fokker standing out\n"
   ]
  },
  {
   "cell_type": "markdown",
   "id": "40aecfef",
   "metadata": {},
   "source": [
    "### Analyze plane types\n",
    "- plot the mean fatal/seriously injured fraction for both small and larger planes \n",
    "- also provide a distributional plot of your choice for the fatal/seriously injured fraction by airplane type (stripplot, violin, etc)  \n",
    "- filter ensuring that you have at least ten individual examples in each model/make to average over"
   ]
  },
  {
   "cell_type": "code",
   "execution_count": 18,
   "id": "e9cc3061-4f4f-446e-ba8b-36feeb4542ff",
   "metadata": {},
   "outputs": [],
   "source": [
    "small_make_model = pd.DataFrame()\n",
    "large_make_model = pd.DataFrame()\n",
    "small_make_model=analysis_df[['Make_Model', 'ser_inj_frac','Size','is_destroyed']]\n",
    "large_make_model=analysis_df[['Make_Model', 'ser_inj_frac','Size','is_destroyed']]\n",
    "\n",
    "small_make_model=small_make_model[small_make_model['Size'] == 'Small']\n",
    "counts = small_make_model['Make_Model'].value_counts()\n",
    "small_make_model['Counts'] = small_make_model['Make_Model'].map(counts)\n",
    "\n",
    "small_make_model = small_make_model.drop_duplicates(subset=['Make_Model'])\n",
    "mask = small_make_model['Counts'] < 9\n",
    "small_make_model = small_make_model[~mask]\n",
    "\n",
    "small_make_model.sort_values(by='ser_inj_frac',inplace=True)\n"
   ]
  },
  {
   "cell_type": "code",
   "execution_count": 19,
   "id": "913b18e2-a532-4f09-9cf8-6f6354c4c1b3",
   "metadata": {},
   "outputs": [],
   "source": [
    "#groupby small then large\n",
    "\n",
    "large_make_model=large_make_model[large_make_model['Size'] == 'Large']\n",
    "\n",
    "large_make_model.sort_values(by='ser_inj_frac',inplace=True)\n",
    "large_make_model = large_make_model.drop_duplicates(subset=['Make_Model'])"
   ]
  },
  {
   "cell_type": "code",
   "execution_count": 20,
   "id": "fdc5def9-facd-45ff-af21-d5a813d7428c",
   "metadata": {
    "scrolled": true
   },
   "outputs": [
    {
     "data": {
      "text/html": [
       "<div>\n",
       "<style scoped>\n",
       "    .dataframe tbody tr th:only-of-type {\n",
       "        vertical-align: middle;\n",
       "    }\n",
       "\n",
       "    .dataframe tbody tr th {\n",
       "        vertical-align: top;\n",
       "    }\n",
       "\n",
       "    .dataframe thead th {\n",
       "        text-align: right;\n",
       "    }\n",
       "</style>\n",
       "<table border=\"1\" class=\"dataframe\">\n",
       "  <thead>\n",
       "    <tr style=\"text-align: right;\">\n",
       "      <th></th>\n",
       "      <th>Make_Model</th>\n",
       "      <th>ser_inj_frac</th>\n",
       "      <th>Size</th>\n",
       "      <th>is_destroyed</th>\n",
       "      <th>Counts</th>\n",
       "    </tr>\n",
       "  </thead>\n",
       "  <tbody>\n",
       "    <tr>\n",
       "      <th>21</th>\n",
       "      <td>CESSNA_150L</td>\n",
       "      <td>0.0</td>\n",
       "      <td>Small</td>\n",
       "      <td>0</td>\n",
       "      <td>363</td>\n",
       "    </tr>\n",
       "    <tr>\n",
       "      <th>3413</th>\n",
       "      <td>CESSNA_195B</td>\n",
       "      <td>0.0</td>\n",
       "      <td>Small</td>\n",
       "      <td>0</td>\n",
       "      <td>23</td>\n",
       "    </tr>\n",
       "    <tr>\n",
       "      <th>3452</th>\n",
       "      <td>BEECH_A-36</td>\n",
       "      <td>0.0</td>\n",
       "      <td>Small</td>\n",
       "      <td>0</td>\n",
       "      <td>39</td>\n",
       "    </tr>\n",
       "    <tr>\n",
       "      <th>3478</th>\n",
       "      <td>BEECH_B200</td>\n",
       "      <td>0.0</td>\n",
       "      <td>Small</td>\n",
       "      <td>0</td>\n",
       "      <td>29</td>\n",
       "    </tr>\n",
       "    <tr>\n",
       "      <th>3479</th>\n",
       "      <td>BEECH_100</td>\n",
       "      <td>0.0</td>\n",
       "      <td>Small</td>\n",
       "      <td>0</td>\n",
       "      <td>10</td>\n",
       "    </tr>\n",
       "  </tbody>\n",
       "</table>\n",
       "</div>"
      ],
      "text/plain": [
       "       Make_Model  ser_inj_frac   Size  is_destroyed  Counts\n",
       "21    CESSNA_150L           0.0  Small             0     363\n",
       "3413  CESSNA_195B           0.0  Small             0      23\n",
       "3452   BEECH_A-36           0.0  Small             0      39\n",
       "3478   BEECH_B200           0.0  Small             0      29\n",
       "3479    BEECH_100           0.0  Small             0      10"
      ]
     },
     "execution_count": 20,
     "metadata": {},
     "output_type": "execute_result"
    }
   ],
   "source": [
    "small_make_model.head()"
   ]
  },
  {
   "cell_type": "code",
   "execution_count": 21,
   "id": "61bca242-074d-4604-9cb0-3e1ebe4196d1",
   "metadata": {
    "scrolled": true
   },
   "outputs": [
    {
     "data": {
      "text/plain": [
       "Make_Model       ser_inj_frac  Size   is_destroyed  Counts\n",
       "AERO_11AC        0.0           Small  0             76        1\n",
       "MAULE_M-5        1.0           Small  1             20        1\n",
       "LET_BLANIK L-13  0.0           Small  0             21        1\n",
       "LET_Blanik L-13  0.5           Small  0             9         1\n",
       "LET_L-13         0.0           Small  0             27        1\n",
       "                                                             ..\n",
       "CESSNA_177A      0.0           Small  0             30        1\n",
       "CESSNA_177B      1.0           Small  1             124       1\n",
       "CESSNA_177RG     0.0           Small  0             191       1\n",
       "CESSNA_180       1.0           Small  1             531       1\n",
       "WSK_PZL-M-18     0.0           Small  0             11        1\n",
       "Name: count, Length: 804, dtype: int64"
      ]
     },
     "execution_count": 21,
     "metadata": {},
     "output_type": "execute_result"
    }
   ],
   "source": [
    "small_make_model.value_counts()"
   ]
  },
  {
   "cell_type": "code",
   "execution_count": 22,
   "id": "e7056157-9c59-4a6d-ba35-c96550bdf8b5",
   "metadata": {},
   "outputs": [
    {
     "data": {
      "text/html": [
       "<div>\n",
       "<style scoped>\n",
       "    .dataframe tbody tr th:only-of-type {\n",
       "        vertical-align: middle;\n",
       "    }\n",
       "\n",
       "    .dataframe tbody tr th {\n",
       "        vertical-align: top;\n",
       "    }\n",
       "\n",
       "    .dataframe thead th {\n",
       "        text-align: right;\n",
       "    }\n",
       "</style>\n",
       "<table border=\"1\" class=\"dataframe\">\n",
       "  <thead>\n",
       "    <tr style=\"text-align: right;\">\n",
       "      <th></th>\n",
       "      <th>Make_Model</th>\n",
       "      <th>ser_inj_frac</th>\n",
       "      <th>Size</th>\n",
       "      <th>is_destroyed</th>\n",
       "    </tr>\n",
       "  </thead>\n",
       "  <tbody>\n",
       "    <tr>\n",
       "      <th>51629</th>\n",
       "      <td>EMBRAER_145LR</td>\n",
       "      <td>0.0</td>\n",
       "      <td>Large</td>\n",
       "      <td>0</td>\n",
       "    </tr>\n",
       "    <tr>\n",
       "      <th>60529</th>\n",
       "      <td>BOEING_747-400</td>\n",
       "      <td>0.0</td>\n",
       "      <td>Large</td>\n",
       "      <td>0</td>\n",
       "    </tr>\n",
       "    <tr>\n",
       "      <th>58663</th>\n",
       "      <td>EMBRAER_EMB-145LR</td>\n",
       "      <td>0.0</td>\n",
       "      <td>Large</td>\n",
       "      <td>0</td>\n",
       "    </tr>\n",
       "    <tr>\n",
       "      <th>63219</th>\n",
       "      <td>BOEING_737-800</td>\n",
       "      <td>0.0</td>\n",
       "      <td>Large</td>\n",
       "      <td>1</td>\n",
       "    </tr>\n",
       "    <tr>\n",
       "      <th>63217</th>\n",
       "      <td>BOEING_767-323</td>\n",
       "      <td>0.0</td>\n",
       "      <td>Large</td>\n",
       "      <td>0</td>\n",
       "    </tr>\n",
       "  </tbody>\n",
       "</table>\n",
       "</div>"
      ],
      "text/plain": [
       "              Make_Model  ser_inj_frac   Size  is_destroyed\n",
       "51629      EMBRAER_145LR           0.0  Large             0\n",
       "60529     BOEING_747-400           0.0  Large             0\n",
       "58663  EMBRAER_EMB-145LR           0.0  Large             0\n",
       "63219     BOEING_737-800           0.0  Large             1\n",
       "63217     BOEING_767-323           0.0  Large             0"
      ]
     },
     "execution_count": 22,
     "metadata": {},
     "output_type": "execute_result"
    }
   ],
   "source": [
    "large_make_model.head()"
   ]
  },
  {
   "cell_type": "markdown",
   "id": "8f1faa32",
   "metadata": {},
   "source": [
    "**Larger planes**"
   ]
  },
  {
   "cell_type": "code",
   "execution_count": 23,
   "id": "2792d157",
   "metadata": {},
   "outputs": [
    {
     "data": {
      "text/plain": [
       "\"\\nlarge_q1 = large_make_model['ser_inj_frac'].quantile(0.25)\\nlarge_q3 = large_make_model['ser_inj_frac'].quantile(0.75)\\n\\nlarge_make_model = large_make_model[(large_make_model['ser_inj_frac'] > large_q1)]\\n\""
      ]
     },
     "execution_count": 23,
     "metadata": {},
     "output_type": "execute_result"
    }
   ],
   "source": [
    "'''\n",
    "large_q1 = large_make_model['ser_inj_frac'].quantile(0.25)\n",
    "large_q3 = large_make_model['ser_inj_frac'].quantile(0.75)\n",
    "\n",
    "large_make_model = large_make_model[(large_make_model['ser_inj_frac'] > large_q1)]\n",
    "'''"
   ]
  },
  {
   "cell_type": "code",
   "execution_count": 24,
   "id": "7459eca1-ccec-4a27-bec3-e4b901d55114",
   "metadata": {},
   "outputs": [
    {
     "data": {
      "image/png": "[encoded data removed]",
      "text/plain": [
       "<Figure size 640x480 with 1 Axes>"
      ]
     },
     "metadata": {},
     "output_type": "display_data"
    }
   ],
   "source": [
    "large_make_model =large_make_model.round(2)\n",
    "large_make_model_strip=sns.stripplot(x =\"ser_inj_frac\",\n",
    "             y =\"Make_Model\",\n",
    "             data = large_make_model)"
   ]
  },
  {
   "cell_type": "markdown",
   "id": "c7bb10ce",
   "metadata": {},
   "source": [
    "**Smaller planes**\n",
    "- for smaller planes, limit your plotted results to the makes with the 10 lowest mean serious/fatal injury fractions"
   ]
  },
  {
   "cell_type": "code",
   "execution_count": 25,
   "id": "88e2d1c5-09a3-4023-b045-828fd670e0c0",
   "metadata": {},
   "outputs": [
    {
     "data": {
      "text/plain": [
       "\"\\nsmall_q1 = small_make_model['ser_inj_frac'].quantile(0.25)\\nsmall_q3 = small_make_model['ser_inj_frac'].quantile(0.75)\\n\\nsmall_make_model = small_make_model[(small_make_model['ser_inj_frac'] > large_q1)]\\n\""
      ]
     },
     "execution_count": 25,
     "metadata": {},
     "output_type": "execute_result"
    }
   ],
   "source": [
    "'''\n",
    "small_q1 = small_make_model['ser_inj_frac'].quantile(0.25)\n",
    "small_q3 = small_make_model['ser_inj_frac'].quantile(0.75)\n",
    "\n",
    "small_make_model = small_make_model[(small_make_model['ser_inj_frac'] > large_q1)]\n",
    "'''"
   ]
  },
  {
   "cell_type": "code",
   "execution_count": 26,
   "id": "54a6ccf0-ed83-41f8-ae9d-4b4bd717e05f",
   "metadata": {
    "scrolled": true
   },
   "outputs": [
    {
     "data": {
      "image/png": "[encoded data removed]",
      "text/plain": [
       "<Figure size 640x480 with 1 Axes>"
      ]
     },
     "metadata": {},
     "output_type": "display_data"
    }
   ],
   "source": [
    "small_make_model =small_make_model.round(2)\n",
    "small_limited_strip=sns.stripplot(x =\"ser_inj_frac\",\n",
    "             y =\"Make_Model\",\n",
    "             data = small_make_model)"
   ]
  },
  {
   "cell_type": "markdown",
   "id": "727e14b5",
   "metadata": {},
   "source": [
    "### Discussion of Specific Airplane Types\n",
    "- Discuss what you have found above regarding passenger fraction seriously/ both small and large airplane models."
   ]
  },
  {
   "cell_type": "markdown",
   "id": "d74abe52-ceda-4a82-80d1-a811233c6d2a",
   "metadata": {},
   "source": [
    "\n",
    "Larger planes seem to be safer than small planes.\n",
    "If you look at the graphs above you'll notice that the number of small planes where everyone ends up either seriously or fatally injured is much higher than the Large planes\n",
    "Large planes have a smoother graph but larger planes have more options for fractions. In a 300 seater you have about 300 options of number of people injured. Where as a 2 seater is either none, half, or all\n",
    "Still all in all most Make/Models of both types have a fraction of 0 which is pretty good.\n"
   ]
  },
  {
   "cell_type": "markdown",
   "id": "91b39e09",
   "metadata": {},
   "source": [
    "### Exploring Other Variables\n",
    "- Investigate how other variables effect aircraft damage and injury. You must choose **two** factors out of the following but are free to analyze more:\n",
    "\n",
    "- Weather Condition\n",
    "- Engine Type\n",
    "- Number of Engines\n",
    "- Phase of Flight\n",
    "- Purpose of Flight\n",
    "\n",
    "For each factor provide a discussion explaining your analysis with appropriate visualization / data summaries and interpreting your findings."
   ]
  },
  {
   "cell_type": "code",
   "execution_count": 28,
   "id": "2ce07617",
   "metadata": {},
   "outputs": [],
   "source": [
    "#Engine Type\n",
    "engine_type_df=pd.DataFrame()\n",
    "engine_type_df=analysis_df[['Engine_Type', 'ser_inj_frac','Size','is_destroyed']]\n",
    "engine_type_df = engine_type_df.dropna(subset=['Engine_Type'])\n",
    "\n",
    "small_engine=engine_type_df\n",
    "small_engine=small_engine[small_engine['Size'] == 'Small']\n"
   ]
  },
  {
   "cell_type": "code",
   "execution_count": 29,
   "id": "21af8d6d-407c-43bd-ade3-1f3552d82d1b",
   "metadata": {},
   "outputs": [
    {
     "data": {
      "text/html": [
       "<div>\n",
       "<style scoped>\n",
       "    .dataframe tbody tr th:only-of-type {\n",
       "        vertical-align: middle;\n",
       "    }\n",
       "\n",
       "    .dataframe tbody tr th {\n",
       "        vertical-align: top;\n",
       "    }\n",
       "\n",
       "    .dataframe thead th {\n",
       "        text-align: right;\n",
       "    }\n",
       "</style>\n",
       "<table border=\"1\" class=\"dataframe\">\n",
       "  <thead>\n",
       "    <tr style=\"text-align: right;\">\n",
       "      <th></th>\n",
       "      <th>Engine_Type</th>\n",
       "      <th>ser_inj_frac</th>\n",
       "      <th>Size</th>\n",
       "      <th>is_destroyed</th>\n",
       "    </tr>\n",
       "  </thead>\n",
       "  <tbody>\n",
       "    <tr>\n",
       "      <th>21</th>\n",
       "      <td>Reciprocating</td>\n",
       "      <td>0.0</td>\n",
       "      <td>Small</td>\n",
       "      <td>0</td>\n",
       "    </tr>\n",
       "    <tr>\n",
       "      <th>20</th>\n",
       "      <td>Reciprocating</td>\n",
       "      <td>0.0</td>\n",
       "      <td>Small</td>\n",
       "      <td>0</td>\n",
       "    </tr>\n",
       "    <tr>\n",
       "      <th>18</th>\n",
       "      <td>Reciprocating</td>\n",
       "      <td>0.0</td>\n",
       "      <td>Small</td>\n",
       "      <td>0</td>\n",
       "    </tr>\n",
       "    <tr>\n",
       "      <th>17</th>\n",
       "      <td>Reciprocating</td>\n",
       "      <td>1.0</td>\n",
       "      <td>Small</td>\n",
       "      <td>1</td>\n",
       "    </tr>\n",
       "    <tr>\n",
       "      <th>16</th>\n",
       "      <td>Reciprocating</td>\n",
       "      <td>0.0</td>\n",
       "      <td>Small</td>\n",
       "      <td>1</td>\n",
       "    </tr>\n",
       "  </tbody>\n",
       "</table>\n",
       "</div>"
      ],
      "text/plain": [
       "      Engine_Type  ser_inj_frac   Size  is_destroyed\n",
       "21  Reciprocating           0.0  Small             0\n",
       "20  Reciprocating           0.0  Small             0\n",
       "18  Reciprocating           0.0  Small             0\n",
       "17  Reciprocating           1.0  Small             1\n",
       "16  Reciprocating           0.0  Small             1"
      ]
     },
     "execution_count": 29,
     "metadata": {},
     "output_type": "execute_result"
    }
   ],
   "source": [
    "small_engine.head()"
   ]
  },
  {
   "cell_type": "code",
   "execution_count": 30,
   "id": "4f45010d-5353-46fe-96f3-955e5d2cd78a",
   "metadata": {},
   "outputs": [
    {
     "name": "stderr",
     "output_type": "stream",
     "text": [
      "C:\\Users\\beers\\AppData\\Local\\Temp\\ipykernel_12400\\815435338.py:1: SettingWithCopyWarning: \n",
      "A value is trying to be set on a copy of a slice from a DataFrame.\n",
      "Try using .loc[row_indexer,col_indexer] = value instead\n",
      "\n",
      "See the caveats in the documentation: https://pandas.pydata.org/pandas-docs/stable/user_guide/indexing.html#returning-a-view-versus-a-copy\n",
      "  small_engine['Type_Frac'] = small_engine.groupby('Engine_Type')['ser_inj_frac'].transform('mean')\n"
     ]
    }
   ],
   "source": [
    "small_engine['Type_Frac'] = small_engine.groupby('Engine_Type')['ser_inj_frac'].transform('mean')\n",
    "small_engine = small_engine.drop_duplicates(subset=['Engine_Type'])\n",
    "small_engine = small_engine.head(15)"
   ]
  },
  {
   "cell_type": "code",
   "execution_count": 31,
   "id": "23069778-0e40-4cbd-b93e-579d9d2f0c84",
   "metadata": {},
   "outputs": [
    {
     "data": {
      "text/html": [
       "<div>\n",
       "<style scoped>\n",
       "    .dataframe tbody tr th:only-of-type {\n",
       "        vertical-align: middle;\n",
       "    }\n",
       "\n",
       "    .dataframe tbody tr th {\n",
       "        vertical-align: top;\n",
       "    }\n",
       "\n",
       "    .dataframe thead th {\n",
       "        text-align: right;\n",
       "    }\n",
       "</style>\n",
       "<table border=\"1\" class=\"dataframe\">\n",
       "  <thead>\n",
       "    <tr style=\"text-align: right;\">\n",
       "      <th></th>\n",
       "      <th>Engine_Type</th>\n",
       "      <th>ser_inj_frac</th>\n",
       "      <th>Size</th>\n",
       "      <th>is_destroyed</th>\n",
       "      <th>Type_Frac</th>\n",
       "    </tr>\n",
       "  </thead>\n",
       "  <tbody>\n",
       "    <tr>\n",
       "      <th>21</th>\n",
       "      <td>Reciprocating</td>\n",
       "      <td>0.0</td>\n",
       "      <td>Small</td>\n",
       "      <td>0</td>\n",
       "      <td>0.260101</td>\n",
       "    </tr>\n",
       "    <tr>\n",
       "      <th>22</th>\n",
       "      <td>Turbo Shaft</td>\n",
       "      <td>0.0</td>\n",
       "      <td>Small</td>\n",
       "      <td>0</td>\n",
       "      <td>0.315316</td>\n",
       "    </tr>\n",
       "    <tr>\n",
       "      <th>80</th>\n",
       "      <td>Turbo Prop</td>\n",
       "      <td>0.0</td>\n",
       "      <td>Small</td>\n",
       "      <td>0</td>\n",
       "      <td>0.313805</td>\n",
       "    </tr>\n",
       "    <tr>\n",
       "      <th>221</th>\n",
       "      <td>Turbo Jet</td>\n",
       "      <td>0.0</td>\n",
       "      <td>Small</td>\n",
       "      <td>0</td>\n",
       "      <td>0.354673</td>\n",
       "    </tr>\n",
       "    <tr>\n",
       "      <th>737</th>\n",
       "      <td>Turbo Fan</td>\n",
       "      <td>0.0</td>\n",
       "      <td>Small</td>\n",
       "      <td>0</td>\n",
       "      <td>0.181932</td>\n",
       "    </tr>\n",
       "  </tbody>\n",
       "</table>\n",
       "</div>"
      ],
      "text/plain": [
       "       Engine_Type  ser_inj_frac   Size  is_destroyed  Type_Frac\n",
       "21   Reciprocating           0.0  Small             0   0.260101\n",
       "22     Turbo Shaft           0.0  Small             0   0.315316\n",
       "80      Turbo Prop           0.0  Small             0   0.313805\n",
       "221      Turbo Jet           0.0  Small             0   0.354673\n",
       "737      Turbo Fan           0.0  Small             0   0.181932"
      ]
     },
     "execution_count": 31,
     "metadata": {},
     "output_type": "execute_result"
    }
   ],
   "source": [
    "small_engine.head()"
   ]
  },
  {
   "cell_type": "code",
   "execution_count": 32,
   "id": "3696e5fa-3f29-49e4-b95c-25a1f3cd8154",
   "metadata": {},
   "outputs": [
    {
     "data": {
      "text/plain": [
       "Engine_Type    ser_inj_frac  Size   is_destroyed  Type_Frac\n",
       "Reciprocating  0.0           Small  0             0.260101     1\n",
       "Turbo Fan      0.0           Small  0             0.181932     1\n",
       "Turbo Jet      0.0           Small  0             0.354673     1\n",
       "Turbo Prop     0.0           Small  0             0.313805     1\n",
       "Turbo Shaft    0.0           Small  0             0.315316     1\n",
       "Name: count, dtype: int64"
      ]
     },
     "execution_count": 32,
     "metadata": {},
     "output_type": "execute_result"
    }
   ],
   "source": [
    "small_engine.value_counts()"
   ]
  },
  {
   "cell_type": "code",
   "execution_count": 33,
   "id": "0ac6f868-fdee-480d-a680-e1a8165ca21d",
   "metadata": {},
   "outputs": [],
   "source": [
    "small_engine.sort_values(by='Type_Frac',inplace=True)\n"
   ]
  },
  {
   "cell_type": "code",
   "execution_count": 34,
   "id": "c09c5b11-63e5-45ab-a3f8-8e56c7c559e5",
   "metadata": {},
   "outputs": [
    {
     "data": {
      "text/html": [
       "<div>\n",
       "<style scoped>\n",
       "    .dataframe tbody tr th:only-of-type {\n",
       "        vertical-align: middle;\n",
       "    }\n",
       "\n",
       "    .dataframe tbody tr th {\n",
       "        vertical-align: top;\n",
       "    }\n",
       "\n",
       "    .dataframe thead th {\n",
       "        text-align: right;\n",
       "    }\n",
       "</style>\n",
       "<table border=\"1\" class=\"dataframe\">\n",
       "  <thead>\n",
       "    <tr style=\"text-align: right;\">\n",
       "      <th></th>\n",
       "      <th>Engine_Type</th>\n",
       "      <th>ser_inj_frac</th>\n",
       "      <th>Size</th>\n",
       "      <th>is_destroyed</th>\n",
       "      <th>Type_Frac</th>\n",
       "    </tr>\n",
       "  </thead>\n",
       "  <tbody>\n",
       "    <tr>\n",
       "      <th>737</th>\n",
       "      <td>Turbo Fan</td>\n",
       "      <td>0.0</td>\n",
       "      <td>Small</td>\n",
       "      <td>0</td>\n",
       "      <td>0.181932</td>\n",
       "    </tr>\n",
       "    <tr>\n",
       "      <th>21</th>\n",
       "      <td>Reciprocating</td>\n",
       "      <td>0.0</td>\n",
       "      <td>Small</td>\n",
       "      <td>0</td>\n",
       "      <td>0.260101</td>\n",
       "    </tr>\n",
       "    <tr>\n",
       "      <th>80</th>\n",
       "      <td>Turbo Prop</td>\n",
       "      <td>0.0</td>\n",
       "      <td>Small</td>\n",
       "      <td>0</td>\n",
       "      <td>0.313805</td>\n",
       "    </tr>\n",
       "    <tr>\n",
       "      <th>22</th>\n",
       "      <td>Turbo Shaft</td>\n",
       "      <td>0.0</td>\n",
       "      <td>Small</td>\n",
       "      <td>0</td>\n",
       "      <td>0.315316</td>\n",
       "    </tr>\n",
       "    <tr>\n",
       "      <th>221</th>\n",
       "      <td>Turbo Jet</td>\n",
       "      <td>0.0</td>\n",
       "      <td>Small</td>\n",
       "      <td>0</td>\n",
       "      <td>0.354673</td>\n",
       "    </tr>\n",
       "  </tbody>\n",
       "</table>\n",
       "</div>"
      ],
      "text/plain": [
       "       Engine_Type  ser_inj_frac   Size  is_destroyed  Type_Frac\n",
       "737      Turbo Fan           0.0  Small             0   0.181932\n",
       "21   Reciprocating           0.0  Small             0   0.260101\n",
       "80      Turbo Prop           0.0  Small             0   0.313805\n",
       "22     Turbo Shaft           0.0  Small             0   0.315316\n",
       "221      Turbo Jet           0.0  Small             0   0.354673"
      ]
     },
     "execution_count": 34,
     "metadata": {},
     "output_type": "execute_result"
    }
   ],
   "source": [
    "small_engine.head(6)"
   ]
  },
  {
   "cell_type": "code",
   "execution_count": 35,
   "id": "e5820c76-d8b1-47ed-8597-1a34dd6f3379",
   "metadata": {},
   "outputs": [],
   "source": [
    "large_engine=engine_type_df\n",
    "large_engine=large_engine[large_engine['Size'] == 'Large']"
   ]
  },
  {
   "cell_type": "code",
   "execution_count": 36,
   "id": "a425c154-4184-45a1-9b74-e3fe87088c68",
   "metadata": {},
   "outputs": [
    {
     "data": {
      "text/html": [
       "<div>\n",
       "<style scoped>\n",
       "    .dataframe tbody tr th:only-of-type {\n",
       "        vertical-align: middle;\n",
       "    }\n",
       "\n",
       "    .dataframe tbody tr th {\n",
       "        vertical-align: top;\n",
       "    }\n",
       "\n",
       "    .dataframe thead th {\n",
       "        text-align: right;\n",
       "    }\n",
       "</style>\n",
       "<table border=\"1\" class=\"dataframe\">\n",
       "  <thead>\n",
       "    <tr style=\"text-align: right;\">\n",
       "      <th></th>\n",
       "      <th>Engine_Type</th>\n",
       "      <th>ser_inj_frac</th>\n",
       "      <th>Size</th>\n",
       "      <th>is_destroyed</th>\n",
       "    </tr>\n",
       "  </thead>\n",
       "  <tbody>\n",
       "    <tr>\n",
       "      <th>84</th>\n",
       "      <td>Turbo Fan</td>\n",
       "      <td>0.965517</td>\n",
       "      <td>Large</td>\n",
       "      <td>1</td>\n",
       "    </tr>\n",
       "    <tr>\n",
       "      <th>155</th>\n",
       "      <td>Turbo Fan</td>\n",
       "      <td>0.028302</td>\n",
       "      <td>Large</td>\n",
       "      <td>1</td>\n",
       "    </tr>\n",
       "    <tr>\n",
       "      <th>320</th>\n",
       "      <td>Turbo Jet</td>\n",
       "      <td>0.000000</td>\n",
       "      <td>Large</td>\n",
       "      <td>0</td>\n",
       "    </tr>\n",
       "    <tr>\n",
       "      <th>344</th>\n",
       "      <td>Turbo Fan</td>\n",
       "      <td>0.018868</td>\n",
       "      <td>Large</td>\n",
       "      <td>0</td>\n",
       "    </tr>\n",
       "    <tr>\n",
       "      <th>796</th>\n",
       "      <td>Turbo Fan</td>\n",
       "      <td>0.000000</td>\n",
       "      <td>Large</td>\n",
       "      <td>0</td>\n",
       "    </tr>\n",
       "  </tbody>\n",
       "</table>\n",
       "</div>"
      ],
      "text/plain": [
       "    Engine_Type  ser_inj_frac   Size  is_destroyed\n",
       "84    Turbo Fan      0.965517  Large             1\n",
       "155   Turbo Fan      0.028302  Large             1\n",
       "320   Turbo Jet      0.000000  Large             0\n",
       "344   Turbo Fan      0.018868  Large             0\n",
       "796   Turbo Fan      0.000000  Large             0"
      ]
     },
     "execution_count": 36,
     "metadata": {},
     "output_type": "execute_result"
    }
   ],
   "source": [
    "large_engine.head()"
   ]
  },
  {
   "cell_type": "code",
   "execution_count": 37,
   "id": "275c9b71-814c-43e0-9cc6-62da33279fe5",
   "metadata": {},
   "outputs": [
    {
     "name": "stderr",
     "output_type": "stream",
     "text": [
      "C:\\Users\\beers\\AppData\\Local\\Temp\\ipykernel_12400\\3225075739.py:1: SettingWithCopyWarning: \n",
      "A value is trying to be set on a copy of a slice from a DataFrame.\n",
      "Try using .loc[row_indexer,col_indexer] = value instead\n",
      "\n",
      "See the caveats in the documentation: https://pandas.pydata.org/pandas-docs/stable/user_guide/indexing.html#returning-a-view-versus-a-copy\n",
      "  large_engine['Type_Frac'] = large_engine.groupby('Engine_Type')['ser_inj_frac'].transform('mean')\n"
     ]
    }
   ],
   "source": [
    "large_engine['Type_Frac'] = large_engine.groupby('Engine_Type')['ser_inj_frac'].transform('mean')\n",
    "large_engine = large_engine.drop_duplicates(subset=['Engine_Type'])\n",
    "large_engine = large_engine.head(15)"
   ]
  },
  {
   "cell_type": "code",
   "execution_count": 38,
   "id": "33695c9c-ccfd-4eac-ab9b-34ece9d14857",
   "metadata": {},
   "outputs": [
    {
     "data": {
      "text/html": [
       "<div>\n",
       "<style scoped>\n",
       "    .dataframe tbody tr th:only-of-type {\n",
       "        vertical-align: middle;\n",
       "    }\n",
       "\n",
       "    .dataframe tbody tr th {\n",
       "        vertical-align: top;\n",
       "    }\n",
       "\n",
       "    .dataframe thead th {\n",
       "        text-align: right;\n",
       "    }\n",
       "</style>\n",
       "<table border=\"1\" class=\"dataframe\">\n",
       "  <thead>\n",
       "    <tr style=\"text-align: right;\">\n",
       "      <th></th>\n",
       "      <th>Engine_Type</th>\n",
       "      <th>ser_inj_frac</th>\n",
       "      <th>Size</th>\n",
       "      <th>is_destroyed</th>\n",
       "      <th>Type_Frac</th>\n",
       "    </tr>\n",
       "  </thead>\n",
       "  <tbody>\n",
       "    <tr>\n",
       "      <th>84</th>\n",
       "      <td>Turbo Fan</td>\n",
       "      <td>0.965517</td>\n",
       "      <td>Large</td>\n",
       "      <td>1</td>\n",
       "      <td>0.051457</td>\n",
       "    </tr>\n",
       "    <tr>\n",
       "      <th>320</th>\n",
       "      <td>Turbo Jet</td>\n",
       "      <td>0.000000</td>\n",
       "      <td>Large</td>\n",
       "      <td>0</td>\n",
       "      <td>0.051178</td>\n",
       "    </tr>\n",
       "    <tr>\n",
       "      <th>15013</th>\n",
       "      <td>Turbo Prop</td>\n",
       "      <td>1.000000</td>\n",
       "      <td>Large</td>\n",
       "      <td>1</td>\n",
       "      <td>0.140178</td>\n",
       "    </tr>\n",
       "    <tr>\n",
       "      <th>15779</th>\n",
       "      <td>Reciprocating</td>\n",
       "      <td>0.911111</td>\n",
       "      <td>Large</td>\n",
       "      <td>1</td>\n",
       "      <td>0.166111</td>\n",
       "    </tr>\n",
       "    <tr>\n",
       "      <th>15012</th>\n",
       "      <td>Turbo Shaft</td>\n",
       "      <td>1.000000</td>\n",
       "      <td>Large</td>\n",
       "      <td>1</td>\n",
       "      <td>1.000000</td>\n",
       "    </tr>\n",
       "  </tbody>\n",
       "</table>\n",
       "</div>"
      ],
      "text/plain": [
       "         Engine_Type  ser_inj_frac   Size  is_destroyed  Type_Frac\n",
       "84         Turbo Fan      0.965517  Large             1   0.051457\n",
       "320        Turbo Jet      0.000000  Large             0   0.051178\n",
       "15013     Turbo Prop      1.000000  Large             1   0.140178\n",
       "15779  Reciprocating      0.911111  Large             1   0.166111\n",
       "15012    Turbo Shaft      1.000000  Large             1   1.000000"
      ]
     },
     "execution_count": 38,
     "metadata": {},
     "output_type": "execute_result"
    }
   ],
   "source": [
    "large_engine.head()"
   ]
  },
  {
   "cell_type": "code",
   "execution_count": 39,
   "id": "b46fff24-5dfe-4f37-b1b1-161805ce726a",
   "metadata": {},
   "outputs": [
    {
     "data": {
      "text/plain": [
       "Engine_Type      ser_inj_frac  Size   is_destroyed  Type_Frac\n",
       "Geared Turbofan  0.000000      Large  0             0.000000     1\n",
       "Reciprocating    0.911111      Large  1             0.166111     1\n",
       "Turbo Fan        0.965517      Large  1             0.051457     1\n",
       "Turbo Jet        0.000000      Large  0             0.051178     1\n",
       "Turbo Prop       1.000000      Large  1             0.140178     1\n",
       "Turbo Shaft      1.000000      Large  1             1.000000     1\n",
       "Name: count, dtype: int64"
      ]
     },
     "execution_count": 39,
     "metadata": {},
     "output_type": "execute_result"
    }
   ],
   "source": [
    "large_engine.value_counts()"
   ]
  },
  {
   "cell_type": "code",
   "execution_count": 40,
   "id": "98a67b20-1d43-47e0-8833-a6ec76985646",
   "metadata": {},
   "outputs": [],
   "source": [
    "large_engine.sort_values(by='Type_Frac',inplace=True)\n"
   ]
  },
  {
   "cell_type": "code",
   "execution_count": 41,
   "id": "e3aa9ef0-2611-4fbe-a1bd-941ca5c0818a",
   "metadata": {},
   "outputs": [
    {
     "data": {
      "text/html": [
       "<div>\n",
       "<style scoped>\n",
       "    .dataframe tbody tr th:only-of-type {\n",
       "        vertical-align: middle;\n",
       "    }\n",
       "\n",
       "    .dataframe tbody tr th {\n",
       "        vertical-align: top;\n",
       "    }\n",
       "\n",
       "    .dataframe thead th {\n",
       "        text-align: right;\n",
       "    }\n",
       "</style>\n",
       "<table border=\"1\" class=\"dataframe\">\n",
       "  <thead>\n",
       "    <tr style=\"text-align: right;\">\n",
       "      <th></th>\n",
       "      <th>Engine_Type</th>\n",
       "      <th>ser_inj_frac</th>\n",
       "      <th>Size</th>\n",
       "      <th>is_destroyed</th>\n",
       "      <th>Type_Frac</th>\n",
       "    </tr>\n",
       "  </thead>\n",
       "  <tbody>\n",
       "    <tr>\n",
       "      <th>83642</th>\n",
       "      <td>Geared Turbofan</td>\n",
       "      <td>0.000000</td>\n",
       "      <td>Large</td>\n",
       "      <td>0</td>\n",
       "      <td>0.000000</td>\n",
       "    </tr>\n",
       "    <tr>\n",
       "      <th>320</th>\n",
       "      <td>Turbo Jet</td>\n",
       "      <td>0.000000</td>\n",
       "      <td>Large</td>\n",
       "      <td>0</td>\n",
       "      <td>0.051178</td>\n",
       "    </tr>\n",
       "    <tr>\n",
       "      <th>84</th>\n",
       "      <td>Turbo Fan</td>\n",
       "      <td>0.965517</td>\n",
       "      <td>Large</td>\n",
       "      <td>1</td>\n",
       "      <td>0.051457</td>\n",
       "    </tr>\n",
       "    <tr>\n",
       "      <th>15013</th>\n",
       "      <td>Turbo Prop</td>\n",
       "      <td>1.000000</td>\n",
       "      <td>Large</td>\n",
       "      <td>1</td>\n",
       "      <td>0.140178</td>\n",
       "    </tr>\n",
       "    <tr>\n",
       "      <th>15779</th>\n",
       "      <td>Reciprocating</td>\n",
       "      <td>0.911111</td>\n",
       "      <td>Large</td>\n",
       "      <td>1</td>\n",
       "      <td>0.166111</td>\n",
       "    </tr>\n",
       "    <tr>\n",
       "      <th>15012</th>\n",
       "      <td>Turbo Shaft</td>\n",
       "      <td>1.000000</td>\n",
       "      <td>Large</td>\n",
       "      <td>1</td>\n",
       "      <td>1.000000</td>\n",
       "    </tr>\n",
       "  </tbody>\n",
       "</table>\n",
       "</div>"
      ],
      "text/plain": [
       "           Engine_Type  ser_inj_frac   Size  is_destroyed  Type_Frac\n",
       "83642  Geared Turbofan      0.000000  Large             0   0.000000\n",
       "320          Turbo Jet      0.000000  Large             0   0.051178\n",
       "84           Turbo Fan      0.965517  Large             1   0.051457\n",
       "15013       Turbo Prop      1.000000  Large             1   0.140178\n",
       "15779    Reciprocating      0.911111  Large             1   0.166111\n",
       "15012      Turbo Shaft      1.000000  Large             1   1.000000"
      ]
     },
     "execution_count": 41,
     "metadata": {},
     "output_type": "execute_result"
    }
   ],
   "source": [
    "large_engine.head(6)"
   ]
  },
  {
   "cell_type": "code",
   "execution_count": 42,
   "id": "d6a608fc-99a2-4fbd-a79b-255f783c1c6e",
   "metadata": {},
   "outputs": [
    {
     "data": {
      "image/png": "[encoded data removed]",
      "text/plain": [
       "<Figure size 640x480 with 1 Axes>"
      ]
     },
     "metadata": {},
     "output_type": "display_data"
    }
   ],
   "source": [
    "small_engine =small_engine.round(2)\n",
    "small_engine_strip=sns.stripplot(x =\"Type_Frac\",\n",
    "             y =\"Engine_Type\",\n",
    "             data = small_engine)"
   ]
  },
  {
   "cell_type": "code",
   "execution_count": 43,
   "id": "42d1adfb-fd7b-4dee-a013-384f751d1d36",
   "metadata": {},
   "outputs": [
    {
     "data": {
      "image/png": "[encoded data removed]",
      "text/plain": [
       "<Figure size 640x480 with 1 Axes>"
      ]
     },
     "metadata": {},
     "output_type": "display_data"
    }
   ],
   "source": [
    "large_engine =large_engine.round(2)\n",
    "large_engine_strip=sns.stripplot(x =\"Type_Frac\",\n",
    "             y =\"Engine_Type\",\n",
    "             data = large_engine)"
   ]
  },
  {
   "cell_type": "markdown",
   "id": "e98e8be5-8fb7-4567-a060-5356fe9c0814",
   "metadata": {},
   "source": [
    "\n",
    "Looking at Engine Type again large vs small seems to be the differnce here.\n",
    "Notable data shows that Fan style engines seem to safer than Jet and Shaft styles\n",
    "If you see for both small and large the safest type is a Turbofan (large its \"Geared\" but regular is also pretty low.\n",
    "For small planes it seems the Turbo Jet is the most dangerous while the Turbo Shaft is dangerous for large planes\n"
   ]
  },
  {
   "cell_type": "code",
   "execution_count": 45,
   "id": "91d4660f-ddba-44a6-a401-205c55ff7e2f",
   "metadata": {},
   "outputs": [],
   "source": [
    "#Number of Engines\n",
    "\n",
    "num_engine_df=pd.DataFrame()\n",
    "num_engine_df=analysis_df[['Number_of_Engines', 'ser_inj_frac','Size','is_destroyed']]\n",
    "num_engine_df = num_engine_df[num_engine_df['Number_of_Engines'] > 1]"
   ]
  },
  {
   "cell_type": "code",
   "execution_count": 46,
   "id": "aacc8d35-5cce-4494-be79-c2474b3dbf24",
   "metadata": {},
   "outputs": [],
   "source": [
    "small_num=num_engine_df\n",
    "small_num=small_num[small_num['Size'] == 'Small']"
   ]
  },
  {
   "cell_type": "code",
   "execution_count": 47,
   "id": "9edb9fd4-4b04-4a81-b813-8005bb82559c",
   "metadata": {},
   "outputs": [],
   "source": [
    "large_num=num_engine_df\n",
    "large_num=large_num[large_num['Size'] == 'Large']"
   ]
  },
  {
   "cell_type": "code",
   "execution_count": 48,
   "id": "5af561b1-7aaf-446e-a0a1-0fbd042e5b7a",
   "metadata": {},
   "outputs": [
    {
     "data": {
      "text/html": [
       "<div>\n",
       "<style scoped>\n",
       "    .dataframe tbody tr th:only-of-type {\n",
       "        vertical-align: middle;\n",
       "    }\n",
       "\n",
       "    .dataframe tbody tr th {\n",
       "        vertical-align: top;\n",
       "    }\n",
       "\n",
       "    .dataframe thead th {\n",
       "        text-align: right;\n",
       "    }\n",
       "</style>\n",
       "<table border=\"1\" class=\"dataframe\">\n",
       "  <thead>\n",
       "    <tr style=\"text-align: right;\">\n",
       "      <th></th>\n",
       "      <th>Number_of_Engines</th>\n",
       "      <th>ser_inj_frac</th>\n",
       "      <th>Size</th>\n",
       "      <th>is_destroyed</th>\n",
       "    </tr>\n",
       "  </thead>\n",
       "  <tbody>\n",
       "    <tr>\n",
       "      <th>25</th>\n",
       "      <td>2</td>\n",
       "      <td>1.0</td>\n",
       "      <td>Small</td>\n",
       "      <td>1</td>\n",
       "    </tr>\n",
       "    <tr>\n",
       "      <th>33</th>\n",
       "      <td>2</td>\n",
       "      <td>1.0</td>\n",
       "      <td>Small</td>\n",
       "      <td>1</td>\n",
       "    </tr>\n",
       "    <tr>\n",
       "      <th>34</th>\n",
       "      <td>2</td>\n",
       "      <td>1.0</td>\n",
       "      <td>Small</td>\n",
       "      <td>1</td>\n",
       "    </tr>\n",
       "    <tr>\n",
       "      <th>39</th>\n",
       "      <td>2</td>\n",
       "      <td>1.0</td>\n",
       "      <td>Small</td>\n",
       "      <td>1</td>\n",
       "    </tr>\n",
       "    <tr>\n",
       "      <th>65</th>\n",
       "      <td>2</td>\n",
       "      <td>0.0</td>\n",
       "      <td>Small</td>\n",
       "      <td>0</td>\n",
       "    </tr>\n",
       "  </tbody>\n",
       "</table>\n",
       "</div>"
      ],
      "text/plain": [
       "    Number_of_Engines  ser_inj_frac   Size  is_destroyed\n",
       "25                  2           1.0  Small             1\n",
       "33                  2           1.0  Small             1\n",
       "34                  2           1.0  Small             1\n",
       "39                  2           1.0  Small             1\n",
       "65                  2           0.0  Small             0"
      ]
     },
     "execution_count": 48,
     "metadata": {},
     "output_type": "execute_result"
    }
   ],
   "source": [
    "small_num.head()"
   ]
  },
  {
   "cell_type": "code",
   "execution_count": 49,
   "id": "dc5eb3c9-bdd7-4aa7-a38f-6d16b2908174",
   "metadata": {},
   "outputs": [
    {
     "data": {
      "text/html": [
       "<div>\n",
       "<style scoped>\n",
       "    .dataframe tbody tr th:only-of-type {\n",
       "        vertical-align: middle;\n",
       "    }\n",
       "\n",
       "    .dataframe tbody tr th {\n",
       "        vertical-align: top;\n",
       "    }\n",
       "\n",
       "    .dataframe thead th {\n",
       "        text-align: right;\n",
       "    }\n",
       "</style>\n",
       "<table border=\"1\" class=\"dataframe\">\n",
       "  <thead>\n",
       "    <tr style=\"text-align: right;\">\n",
       "      <th></th>\n",
       "      <th>Number_of_Engines</th>\n",
       "      <th>ser_inj_frac</th>\n",
       "      <th>Size</th>\n",
       "      <th>is_destroyed</th>\n",
       "    </tr>\n",
       "  </thead>\n",
       "  <tbody>\n",
       "    <tr>\n",
       "      <th>84</th>\n",
       "      <td>2</td>\n",
       "      <td>0.965517</td>\n",
       "      <td>Large</td>\n",
       "      <td>1</td>\n",
       "    </tr>\n",
       "    <tr>\n",
       "      <th>155</th>\n",
       "      <td>3</td>\n",
       "      <td>0.028302</td>\n",
       "      <td>Large</td>\n",
       "      <td>1</td>\n",
       "    </tr>\n",
       "    <tr>\n",
       "      <th>320</th>\n",
       "      <td>2</td>\n",
       "      <td>0.000000</td>\n",
       "      <td>Large</td>\n",
       "      <td>0</td>\n",
       "    </tr>\n",
       "    <tr>\n",
       "      <th>344</th>\n",
       "      <td>3</td>\n",
       "      <td>0.018868</td>\n",
       "      <td>Large</td>\n",
       "      <td>0</td>\n",
       "    </tr>\n",
       "    <tr>\n",
       "      <th>796</th>\n",
       "      <td>3</td>\n",
       "      <td>0.000000</td>\n",
       "      <td>Large</td>\n",
       "      <td>0</td>\n",
       "    </tr>\n",
       "  </tbody>\n",
       "</table>\n",
       "</div>"
      ],
      "text/plain": [
       "     Number_of_Engines  ser_inj_frac   Size  is_destroyed\n",
       "84                   2      0.965517  Large             1\n",
       "155                  3      0.028302  Large             1\n",
       "320                  2      0.000000  Large             0\n",
       "344                  3      0.018868  Large             0\n",
       "796                  3      0.000000  Large             0"
      ]
     },
     "execution_count": 49,
     "metadata": {},
     "output_type": "execute_result"
    }
   ],
   "source": [
    "large_num.head()"
   ]
  },
  {
   "cell_type": "code",
   "execution_count": 50,
   "id": "7fdbf496-2af2-4eb2-bc32-8157c695cca7",
   "metadata": {},
   "outputs": [
    {
     "name": "stderr",
     "output_type": "stream",
     "text": [
      "C:\\Users\\beers\\AppData\\Local\\Temp\\ipykernel_12400\\1203038074.py:1: SettingWithCopyWarning: \n",
      "A value is trying to be set on a copy of a slice from a DataFrame.\n",
      "Try using .loc[row_indexer,col_indexer] = value instead\n",
      "\n",
      "See the caveats in the documentation: https://pandas.pydata.org/pandas-docs/stable/user_guide/indexing.html#returning-a-view-versus-a-copy\n",
      "  small_num['Num_Frac'] = small_num.groupby('Number_of_Engines')['ser_inj_frac'].transform('mean')\n"
     ]
    }
   ],
   "source": [
    "small_num['Num_Frac'] = small_num.groupby('Number_of_Engines')['ser_inj_frac'].transform('mean')\n",
    "small_num = small_num.drop_duplicates(subset=['Number_of_Engines'])\n",
    "small_num = small_num.head(15)"
   ]
  },
  {
   "cell_type": "code",
   "execution_count": 51,
   "id": "abb5842d-8798-4ecf-b13d-579ab4071554",
   "metadata": {},
   "outputs": [
    {
     "name": "stderr",
     "output_type": "stream",
     "text": [
      "C:\\Users\\beers\\AppData\\Local\\Temp\\ipykernel_12400\\2494351946.py:1: SettingWithCopyWarning: \n",
      "A value is trying to be set on a copy of a slice from a DataFrame.\n",
      "Try using .loc[row_indexer,col_indexer] = value instead\n",
      "\n",
      "See the caveats in the documentation: https://pandas.pydata.org/pandas-docs/stable/user_guide/indexing.html#returning-a-view-versus-a-copy\n",
      "  large_num['Num_Frac'] = large_num.groupby('Number_of_Engines')['ser_inj_frac'].transform('mean')\n"
     ]
    }
   ],
   "source": [
    "large_num['Num_Frac'] = large_num.groupby('Number_of_Engines')['ser_inj_frac'].transform('mean')\n",
    "large_num = large_num.drop_duplicates(subset=['Number_of_Engines'])\n",
    "large_num = large_num.head(15)"
   ]
  },
  {
   "cell_type": "code",
   "execution_count": 52,
   "id": "27ef7c15-8926-4a57-b26a-746716287fb5",
   "metadata": {},
   "outputs": [
    {
     "data": {
      "text/html": [
       "<div>\n",
       "<style scoped>\n",
       "    .dataframe tbody tr th:only-of-type {\n",
       "        vertical-align: middle;\n",
       "    }\n",
       "\n",
       "    .dataframe tbody tr th {\n",
       "        vertical-align: top;\n",
       "    }\n",
       "\n",
       "    .dataframe thead th {\n",
       "        text-align: right;\n",
       "    }\n",
       "</style>\n",
       "<table border=\"1\" class=\"dataframe\">\n",
       "  <thead>\n",
       "    <tr style=\"text-align: right;\">\n",
       "      <th></th>\n",
       "      <th>Number_of_Engines</th>\n",
       "      <th>ser_inj_frac</th>\n",
       "      <th>Size</th>\n",
       "      <th>is_destroyed</th>\n",
       "      <th>Num_Frac</th>\n",
       "    </tr>\n",
       "  </thead>\n",
       "  <tbody>\n",
       "    <tr>\n",
       "      <th>25</th>\n",
       "      <td>2</td>\n",
       "      <td>1.0</td>\n",
       "      <td>Small</td>\n",
       "      <td>1</td>\n",
       "      <td>0.360840</td>\n",
       "    </tr>\n",
       "    <tr>\n",
       "      <th>129</th>\n",
       "      <td>4</td>\n",
       "      <td>0.0</td>\n",
       "      <td>Small</td>\n",
       "      <td>0</td>\n",
       "      <td>0.195896</td>\n",
       "    </tr>\n",
       "    <tr>\n",
       "      <th>17731</th>\n",
       "      <td>3</td>\n",
       "      <td>0.0</td>\n",
       "      <td>Small</td>\n",
       "      <td>1</td>\n",
       "      <td>0.062509</td>\n",
       "    </tr>\n",
       "  </tbody>\n",
       "</table>\n",
       "</div>"
      ],
      "text/plain": [
       "       Number_of_Engines  ser_inj_frac   Size  is_destroyed  Num_Frac\n",
       "25                     2           1.0  Small             1  0.360840\n",
       "129                    4           0.0  Small             0  0.195896\n",
       "17731                  3           0.0  Small             1  0.062509"
      ]
     },
     "execution_count": 52,
     "metadata": {},
     "output_type": "execute_result"
    }
   ],
   "source": [
    "small_num.head()"
   ]
  },
  {
   "cell_type": "code",
   "execution_count": 53,
   "id": "ddd8ee64-ecf5-4a75-8774-5b137f9950cd",
   "metadata": {},
   "outputs": [
    {
     "data": {
      "text/html": [
       "<div>\n",
       "<style scoped>\n",
       "    .dataframe tbody tr th:only-of-type {\n",
       "        vertical-align: middle;\n",
       "    }\n",
       "\n",
       "    .dataframe tbody tr th {\n",
       "        vertical-align: top;\n",
       "    }\n",
       "\n",
       "    .dataframe thead th {\n",
       "        text-align: right;\n",
       "    }\n",
       "</style>\n",
       "<table border=\"1\" class=\"dataframe\">\n",
       "  <thead>\n",
       "    <tr style=\"text-align: right;\">\n",
       "      <th></th>\n",
       "      <th>Number_of_Engines</th>\n",
       "      <th>ser_inj_frac</th>\n",
       "      <th>Size</th>\n",
       "      <th>is_destroyed</th>\n",
       "      <th>Num_Frac</th>\n",
       "    </tr>\n",
       "  </thead>\n",
       "  <tbody>\n",
       "    <tr>\n",
       "      <th>84</th>\n",
       "      <td>2</td>\n",
       "      <td>0.965517</td>\n",
       "      <td>Large</td>\n",
       "      <td>1</td>\n",
       "      <td>0.059882</td>\n",
       "    </tr>\n",
       "    <tr>\n",
       "      <th>155</th>\n",
       "      <td>3</td>\n",
       "      <td>0.028302</td>\n",
       "      <td>Large</td>\n",
       "      <td>1</td>\n",
       "      <td>0.041131</td>\n",
       "    </tr>\n",
       "    <tr>\n",
       "      <th>3374</th>\n",
       "      <td>4</td>\n",
       "      <td>0.000000</td>\n",
       "      <td>Large</td>\n",
       "      <td>0</td>\n",
       "      <td>0.104082</td>\n",
       "    </tr>\n",
       "  </tbody>\n",
       "</table>\n",
       "</div>"
      ],
      "text/plain": [
       "      Number_of_Engines  ser_inj_frac   Size  is_destroyed  Num_Frac\n",
       "84                    2      0.965517  Large             1  0.059882\n",
       "155                   3      0.028302  Large             1  0.041131\n",
       "3374                  4      0.000000  Large             0  0.104082"
      ]
     },
     "execution_count": 53,
     "metadata": {},
     "output_type": "execute_result"
    }
   ],
   "source": [
    "large_num.head()"
   ]
  },
  {
   "cell_type": "code",
   "execution_count": 54,
   "id": "873b131d-d239-4e5c-9bb4-ea58b301939f",
   "metadata": {},
   "outputs": [
    {
     "data": {
      "text/plain": [
       "Number_of_Engines  ser_inj_frac  Size   is_destroyed  Num_Frac\n",
       "2                  1.0           Small  1             0.360840    1\n",
       "3                  0.0           Small  1             0.062509    1\n",
       "4                  0.0           Small  0             0.195896    1\n",
       "Name: count, dtype: int64"
      ]
     },
     "execution_count": 54,
     "metadata": {},
     "output_type": "execute_result"
    }
   ],
   "source": [
    "small_num.value_counts()"
   ]
  },
  {
   "cell_type": "code",
   "execution_count": 55,
   "id": "3e50b2ea-9688-4ecc-b28b-14599bed0121",
   "metadata": {},
   "outputs": [
    {
     "data": {
      "text/plain": [
       "Number_of_Engines  ser_inj_frac  Size   is_destroyed  Num_Frac\n",
       "2                  0.965517      Large  1             0.059882    1\n",
       "3                  0.028302      Large  1             0.041131    1\n",
       "4                  0.000000      Large  0             0.104082    1\n",
       "Name: count, dtype: int64"
      ]
     },
     "execution_count": 55,
     "metadata": {},
     "output_type": "execute_result"
    }
   ],
   "source": [
    "large_num.value_counts()"
   ]
  },
  {
   "cell_type": "code",
   "execution_count": 56,
   "id": "22605b6a-b672-4124-9320-596f0ea06b66",
   "metadata": {},
   "outputs": [],
   "source": [
    "small_num.sort_values(by='Num_Frac',inplace=True)\n"
   ]
  },
  {
   "cell_type": "code",
   "execution_count": 57,
   "id": "b81c5cd0-33e1-445a-a3a1-ec5548a6da36",
   "metadata": {},
   "outputs": [],
   "source": [
    "large_num.sort_values(by='Num_Frac',inplace=True)\n"
   ]
  },
  {
   "cell_type": "code",
   "execution_count": 58,
   "id": "4247251e-a1e8-4f96-ab60-fca20a7e1714",
   "metadata": {},
   "outputs": [
    {
     "data": {
      "text/html": [
       "<div>\n",
       "<style scoped>\n",
       "    .dataframe tbody tr th:only-of-type {\n",
       "        vertical-align: middle;\n",
       "    }\n",
       "\n",
       "    .dataframe tbody tr th {\n",
       "        vertical-align: top;\n",
       "    }\n",
       "\n",
       "    .dataframe thead th {\n",
       "        text-align: right;\n",
       "    }\n",
       "</style>\n",
       "<table border=\"1\" class=\"dataframe\">\n",
       "  <thead>\n",
       "    <tr style=\"text-align: right;\">\n",
       "      <th></th>\n",
       "      <th>Number_of_Engines</th>\n",
       "      <th>ser_inj_frac</th>\n",
       "      <th>Size</th>\n",
       "      <th>is_destroyed</th>\n",
       "      <th>Num_Frac</th>\n",
       "    </tr>\n",
       "  </thead>\n",
       "  <tbody>\n",
       "    <tr>\n",
       "      <th>17731</th>\n",
       "      <td>3</td>\n",
       "      <td>0.0</td>\n",
       "      <td>Small</td>\n",
       "      <td>1</td>\n",
       "      <td>0.062509</td>\n",
       "    </tr>\n",
       "    <tr>\n",
       "      <th>129</th>\n",
       "      <td>4</td>\n",
       "      <td>0.0</td>\n",
       "      <td>Small</td>\n",
       "      <td>0</td>\n",
       "      <td>0.195896</td>\n",
       "    </tr>\n",
       "    <tr>\n",
       "      <th>25</th>\n",
       "      <td>2</td>\n",
       "      <td>1.0</td>\n",
       "      <td>Small</td>\n",
       "      <td>1</td>\n",
       "      <td>0.360840</td>\n",
       "    </tr>\n",
       "  </tbody>\n",
       "</table>\n",
       "</div>"
      ],
      "text/plain": [
       "       Number_of_Engines  ser_inj_frac   Size  is_destroyed  Num_Frac\n",
       "17731                  3           0.0  Small             1  0.062509\n",
       "129                    4           0.0  Small             0  0.195896\n",
       "25                     2           1.0  Small             1  0.360840"
      ]
     },
     "execution_count": 58,
     "metadata": {},
     "output_type": "execute_result"
    }
   ],
   "source": [
    "small_num.head()"
   ]
  },
  {
   "cell_type": "code",
   "execution_count": 59,
   "id": "14aa693c-c836-4772-8893-f82e67556fc8",
   "metadata": {},
   "outputs": [
    {
     "data": {
      "text/html": [
       "<div>\n",
       "<style scoped>\n",
       "    .dataframe tbody tr th:only-of-type {\n",
       "        vertical-align: middle;\n",
       "    }\n",
       "\n",
       "    .dataframe tbody tr th {\n",
       "        vertical-align: top;\n",
       "    }\n",
       "\n",
       "    .dataframe thead th {\n",
       "        text-align: right;\n",
       "    }\n",
       "</style>\n",
       "<table border=\"1\" class=\"dataframe\">\n",
       "  <thead>\n",
       "    <tr style=\"text-align: right;\">\n",
       "      <th></th>\n",
       "      <th>Number_of_Engines</th>\n",
       "      <th>ser_inj_frac</th>\n",
       "      <th>Size</th>\n",
       "      <th>is_destroyed</th>\n",
       "      <th>Num_Frac</th>\n",
       "    </tr>\n",
       "  </thead>\n",
       "  <tbody>\n",
       "    <tr>\n",
       "      <th>155</th>\n",
       "      <td>3</td>\n",
       "      <td>0.028302</td>\n",
       "      <td>Large</td>\n",
       "      <td>1</td>\n",
       "      <td>0.041131</td>\n",
       "    </tr>\n",
       "    <tr>\n",
       "      <th>84</th>\n",
       "      <td>2</td>\n",
       "      <td>0.965517</td>\n",
       "      <td>Large</td>\n",
       "      <td>1</td>\n",
       "      <td>0.059882</td>\n",
       "    </tr>\n",
       "    <tr>\n",
       "      <th>3374</th>\n",
       "      <td>4</td>\n",
       "      <td>0.000000</td>\n",
       "      <td>Large</td>\n",
       "      <td>0</td>\n",
       "      <td>0.104082</td>\n",
       "    </tr>\n",
       "  </tbody>\n",
       "</table>\n",
       "</div>"
      ],
      "text/plain": [
       "      Number_of_Engines  ser_inj_frac   Size  is_destroyed  Num_Frac\n",
       "155                   3      0.028302  Large             1  0.041131\n",
       "84                    2      0.965517  Large             1  0.059882\n",
       "3374                  4      0.000000  Large             0  0.104082"
      ]
     },
     "execution_count": 59,
     "metadata": {},
     "output_type": "execute_result"
    }
   ],
   "source": [
    "large_num.head()"
   ]
  },
  {
   "cell_type": "code",
   "execution_count": 60,
   "id": "c94b34c6-8bb6-46fb-97a8-776df09ece54",
   "metadata": {},
   "outputs": [
    {
     "data": {
      "image/png": "[encoded data removed]",
      "text/plain": [
       "<Figure size 640x480 with 1 Axes>"
      ]
     },
     "metadata": {},
     "output_type": "display_data"
    }
   ],
   "source": [
    "small_num =small_num.round(2)\n",
    "small_num_strip=sns.stripplot(x =\"Num_Frac\",\n",
    "             y =\"Number_of_Engines\",\n",
    "             data = small_num)"
   ]
  },
  {
   "cell_type": "code",
   "execution_count": 61,
   "id": "612f9fa8-6f71-4f4a-a8d5-b0eec55be77f",
   "metadata": {},
   "outputs": [
    {
     "data": {
      "image/png": "[encoded data removed]",
      "text/plain": [
       "<Figure size 640x480 with 1 Axes>"
      ]
     },
     "metadata": {},
     "output_type": "display_data"
    }
   ],
   "source": [
    "large_num =large_num.round(2)\n",
    "large_num_strip=sns.stripplot(x =\"Num_Frac\",\n",
    "             y =\"Number_of_Engines\",\n",
    "             data = large_num)"
   ]
  },
  {
   "cell_type": "markdown",
   "id": "398a5dad-3958-49cf-a39e-c6a66a8dcc89",
   "metadata": {},
   "source": [
    "\n",
    "Both small and large planes do best with 3 engines both having fractions of less than 0.1\n",
    "Large planes with 2 engines fair better than 4 engines with scores of .06 and .1 respectfully\n",
    "Small planes are the opposite doing better with 4 engines instead of 2 with scores of .2 and .36\n"
   ]
  }
 ],
 "metadata": {
  "kernelspec": {
   "display_name": "Python (learn-env)",
   "language": "python",
   "name": "learn-env"
  },
  "language_info": {
   "codemirror_mode": {
    "name": "ipython",
    "version": 3
   },
   "file_extension": ".py",
   "mimetype": "text/x-python",
   "name": "python",
   "nbconvert_exporter": "python",
   "pygments_lexer": "ipython3",
   "version": "3.12.4"
  }
 },
 "nbformat": 4,
 "nbformat_minor": 5
}
